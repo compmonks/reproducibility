{
 "cells": [
  {
   "cell_type": "markdown",
   "metadata": {},
   "source": [
    "# INFO\n",
    "- experiment: growing gooey\n",
    "- stimulation: rsvp 100ms(stim) / 75ms(blank) / 2500ms break between tokens / 15 flashes per char / 6 tokens max per shape for a max time of 18 seconds.\n",
    "\n",
    "- users tested: 1\n",
    "- devices tested : \n",
    "    - OpenBCI: freq 125Hz / channels FC3,FCz,FC4,T7,C3,Cz,C4,T8,P7,P3,Pz,P4,P8,O1,O2,Oz\n",
    "- metric used : ...\n",
    "\n",
    "\n",
    "This code demonstrates ..."
   ]
  },
  {
   "cell_type": "markdown",
   "metadata": {},
   "source": [
    "# DEPENDENCIES"
   ]
  },
  {
   "cell_type": "code",
   "execution_count": 17,
   "metadata": {},
   "outputs": [],
   "source": [
    "# BUILT-IN\n",
    "import os\n",
    "from collections import OrderedDict\n",
    "\n",
    "# DATAFRAMES\n",
    "import pandas as pd\n",
    "import numpy as np\n",
    "\n",
    "# PLOTTING\n",
    "import matplotlib.pyplot as plt\n",
    "import seaborn as sns\n",
    "%matplotlib inline\n",
    "\n",
    "# MNE\n",
    "from mne import Epochs, find_events, create_info, concatenate_raws, concatenate_epochs\n",
    "from mne.io import RawArray, read_raw_fif\n",
    "\n",
    "# SCIKIT-LEARN\n",
    "from sklearn.externals import joblib"
   ]
  },
  {
   "cell_type": "markdown",
   "metadata": {},
   "source": [
    "# SETTINGS"
   ]
  },
  {
   "cell_type": "code",
   "execution_count": 18,
   "metadata": {},
   "outputs": [],
   "source": [
    "the_folder_path = \"../data/growing_gooey/testing\" # relative datasets path\n",
    "the_user = \"compmonks\" # check available users in data folder or add new ones\n",
    "the_device = \"openbci_v207\" # available devices\n",
    "the_freq = 125 # 125 (OpenBCI) # Sampling Frequency in Hertz\n",
    "the_predictor_name = \"compmonks_T2_erp-cov-ts.pkl\" # trained discriminator in the data folder\n",
    "the_montage = \"standard_1020\" # \"standard_1020\" (OpenBCI) # channels montage\n",
    "the_markers = {'Non-Target': 2, 'Target': 1} # markers from stim data\n",
    "break_epoch = 2500 # time in ms of break between each character spelling sessions\n",
    "blank_index = 12 # index used to mark a non-flashing time\n",
    "sns.set_context('talk') # seaborn settings\n",
    "sns.set_style('white') # seaborn settings\n",
    "diverging_color_palette = \"coolwarm\" # seaborn settings\n",
    "categorical_color_palette = \"Paired\" # seaborn settings\n",
    "#\n",
    "the_data_path = os.path.join(the_folder_path,the_device,the_user,\"testing\")\n",
    "\n",
    "#the_predictor = joblib.load(os.path.join(the_data_path,the_predictor_name),\"r\")"
   ]
  },
  {
   "cell_type": "markdown",
   "metadata": {},
   "source": [
    "# UTILS"
   ]
  },
  {
   "cell_type": "code",
   "execution_count": 19,
   "metadata": {},
   "outputs": [],
   "source": [
    "def plotConditions(the_epochs, unit, channels_num, diff_waveform ,conditions = OrderedDict()):\n",
    "    \"\"\" Plot ERP conditions. \"\"\"\n",
    "\n",
    "    confidence_interval = 97.5 # confidence interval in range [0, 100]\n",
    "    bootstrap_samples = 1000 # number of bootstrap samples\n",
    "    title = 'ERP Conditions'\n",
    "    ylim = (-6,6) #(tuple): (ymin, ymax)\n",
    "    if isinstance(conditions, dict):\n",
    "        conditions = OrderedDict(conditions)\n",
    "        palette = sns.color_palette(diverging_color_palette, len(conditions))\n",
    "        if unit == \"Volts\":\n",
    "            X = the_epochs.get_data() \n",
    "        elif unit == \"uVolts\":\n",
    "            X = the_epochs.get_data() * 1e6 # convert from Volts to uVolts\n",
    "        else:\n",
    "            raise\n",
    "        times = the_epochs.times\n",
    "        y = pd.Series(the_epochs.events[:, -1])\n",
    "        # get the amount of rows and columns and set axes\n",
    "        fig_cell = math.ceil(math.sqrt(channels_num))\n",
    "        fig, axes = plt.subplots(fig_cell, fig_cell, figsize=[12, 6],sharex=True, sharey=True)\n",
    "        axes = [axes[row, col] for row in range(fig_cell) for col in range(fig_cell)]\n",
    "        # make the subplots\n",
    "        for ch in range(channels_num):\n",
    "            for cond, color in zip(conditions.values(), palette):\n",
    "                sns.tsplot(X[y.isin(cond), ch],\n",
    "                           time = times, \n",
    "                           color = color,\n",
    "                           n_boot = bootstrap_samples, \n",
    "                           ci = confidence_interval, \n",
    "                           ax = axes[ch])\n",
    "            if diff_waveform:\n",
    "                diff = (np.nanmean(X[y == diff_waveform[1], ch], axis=0) - np.nanmean(X[y == diff_waveform[0], ch], axis=0))\n",
    "                axes[ch].plot(times, diff, color='darkblue', lw=0.25)\n",
    "            axes[ch].set_title(the_epochs.ch_names[ch])\n",
    "            axes[ch].set_ylim(ylim)\n",
    "            axes[ch].axvline(x=0, ymin=ylim[0], ymax=ylim[1], color='grey',lw=0.5, label='_nolegend_')\n",
    "        axes[0].set_ylabel('Amplitude (uV)')\n",
    "        axes[-1].set_xlabel('Time (s)')\n",
    "        if diff_waveform:\n",
    "            legend = (['{} - {}'.format(diff_waveform[1], diff_waveform[0])] + list(conditions.keys()))\n",
    "        else:\n",
    "            legend = conditions.keys()\n",
    "        #axes[-1].legend(legend,loc='best',fontsize='xx-small')\n",
    "        sns.despine()\n",
    "        #plt.tight_layout()\n",
    "        if title:\n",
    "            fig.suptitle(title, fontsize=20)\n",
    "       \n",
    "        plt.savefig(os.path.join(the_data_path,\"CONDITIONS.png\"),dpi = 800,format = \"png\")\n",
    "        plt.show()\n",
    "    else:\n",
    "        print(\"bad conditions\")"
   ]
  },
  {
   "cell_type": "markdown",
   "metadata": {},
   "source": [
    "# ..."
   ]
  },
  {
   "cell_type": "code",
   "execution_count": 20,
   "metadata": {},
   "outputs": [
    {
     "name": "stdout",
     "output_type": "stream",
     "text": [
      "device:openbci_v207 user:compmonks dir:mattepink_same_continuous\n",
      "device:openbci_v207 user:compmonks dir:session_test\n",
      "device:openbci_v207 user:compmonks dir:part_000\n"
     ]
    },
    {
     "ename": "IndexError",
     "evalue": "list index out of range",
     "output_type": "error",
     "traceback": [
      "\u001b[0;31m---------------------------------------------------------------------------\u001b[0m",
      "\u001b[0;31mIndexError\u001b[0m                                Traceback (most recent call last)",
      "\u001b[0;32m<ipython-input-20-0f06987cd973>\u001b[0m in \u001b[0;36m<module>\u001b[0;34m()\u001b[0m\n\u001b[1;32m     11\u001b[0m                  \u001b[0;32mif\u001b[0m \u001b[0;34m\".fif\"\u001b[0m \u001b[0;32min\u001b[0m \u001b[0m_f\u001b[0m\u001b[0;34m:\u001b[0m\u001b[0;34m\u001b[0m\u001b[0m\n\u001b[1;32m     12\u001b[0m                     \u001b[0mlist_of_epochs\u001b[0m\u001b[0;34m.\u001b[0m\u001b[0mappend\u001b[0m\u001b[0;34m(\u001b[0m\u001b[0mread_raw_fif\u001b[0m\u001b[0;34m(\u001b[0m\u001b[0m_f\u001b[0m\u001b[0;34m)\u001b[0m\u001b[0;34m)\u001b[0m\u001b[0;34m\u001b[0m\u001b[0m\n\u001b[0;32m---> 13\u001b[0;31m \u001b[0mthe_epochs\u001b[0m \u001b[0;34m=\u001b[0m \u001b[0mconcatenate_epochs\u001b[0m\u001b[0;34m(\u001b[0m\u001b[0mlist_of_epochs\u001b[0m\u001b[0;34m)\u001b[0m\u001b[0;34m\u001b[0m\u001b[0m\n\u001b[0m\u001b[1;32m     14\u001b[0m \u001b[0mplotConditions\u001b[0m\u001b[0;34m(\u001b[0m\u001b[0mthe_epochs\u001b[0m\u001b[0;34m,\u001b[0m \u001b[0mthe_units\u001b[0m\u001b[0;34m,\u001b[0m \u001b[0mlen\u001b[0m\u001b[0;34m(\u001b[0m\u001b[0mchannel_names\u001b[0m\u001b[0;34m)\u001b[0m\u001b[0;34m-\u001b[0m\u001b[0;36m1\u001b[0m\u001b[0;34m,\u001b[0m \u001b[0mdiff_waveform\u001b[0m \u001b[0;34m=\u001b[0m \u001b[0;34m(\u001b[0m\u001b[0;36m2\u001b[0m\u001b[0;34m,\u001b[0m\u001b[0;36m1\u001b[0m\u001b[0;34m)\u001b[0m \u001b[0;34m,\u001b[0m\u001b[0mconditions\u001b[0m \u001b[0;34m=\u001b[0m \u001b[0mconditions\u001b[0m\u001b[0;34m)\u001b[0m\u001b[0;34m\u001b[0m\u001b[0m\n\u001b[1;32m     15\u001b[0m \u001b[0;31m#plt.savefig(os.path.join(the_data_path,\"CONDITIONS.png\"),dpi = 800,format = \"png\")\u001b[0m\u001b[0;34m\u001b[0m\u001b[0;34m\u001b[0m\u001b[0m\n",
      "\u001b[0;32m~/py35/lib/python3.5/site-packages/mne/epochs.py\u001b[0m in \u001b[0;36mconcatenate_epochs\u001b[0;34m(epochs_list)\u001b[0m\n\u001b[1;32m   2890\u001b[0m     \u001b[0;34m.\u001b[0m\u001b[0;34m.\u001b[0m \u001b[0mversionadded\u001b[0m\u001b[0;34m:\u001b[0m\u001b[0;34m:\u001b[0m \u001b[0;36m0.9\u001b[0m\u001b[0;36m.0\u001b[0m\u001b[0;34m\u001b[0m\u001b[0m\n\u001b[1;32m   2891\u001b[0m     \"\"\"\n\u001b[0;32m-> 2892\u001b[0;31m     \u001b[0;32mreturn\u001b[0m \u001b[0m_finish_concat\u001b[0m\u001b[0;34m(\u001b[0m\u001b[0;34m*\u001b[0m\u001b[0m_concatenate_epochs\u001b[0m\u001b[0;34m(\u001b[0m\u001b[0mepochs_list\u001b[0m\u001b[0;34m)\u001b[0m\u001b[0;34m)\u001b[0m\u001b[0;34m\u001b[0m\u001b[0m\n\u001b[0m\u001b[1;32m   2893\u001b[0m \u001b[0;34m\u001b[0m\u001b[0m\n\u001b[1;32m   2894\u001b[0m \u001b[0;34m\u001b[0m\u001b[0m\n",
      "\u001b[0;32m~/py35/lib/python3.5/site-packages/mne/epochs.py\u001b[0m in \u001b[0;36m_concatenate_epochs\u001b[0;34m(epochs_list, with_data, add_offset)\u001b[0m\n\u001b[1;32m   2793\u001b[0m             raise TypeError('epochs_list[%d] must be an instance of Epochs, '\n\u001b[1;32m   2794\u001b[0m                             'got %s' % (ei, type(epochs)))\n\u001b[0;32m-> 2795\u001b[0;31m     \u001b[0mout\u001b[0m \u001b[0;34m=\u001b[0m \u001b[0mepochs_list\u001b[0m\u001b[0;34m[\u001b[0m\u001b[0;36m0\u001b[0m\u001b[0;34m]\u001b[0m\u001b[0;34m\u001b[0m\u001b[0m\n\u001b[0m\u001b[1;32m   2796\u001b[0m     \u001b[0mdata\u001b[0m \u001b[0;34m=\u001b[0m \u001b[0;34m[\u001b[0m\u001b[0mout\u001b[0m\u001b[0;34m.\u001b[0m\u001b[0mget_data\u001b[0m\u001b[0;34m(\u001b[0m\u001b[0;34m)\u001b[0m\u001b[0;34m]\u001b[0m \u001b[0;32mif\u001b[0m \u001b[0mwith_data\u001b[0m \u001b[0;32melse\u001b[0m \u001b[0;32mNone\u001b[0m\u001b[0;34m\u001b[0m\u001b[0m\n\u001b[1;32m   2797\u001b[0m     \u001b[0mevents\u001b[0m \u001b[0;34m=\u001b[0m \u001b[0;34m[\u001b[0m\u001b[0mout\u001b[0m\u001b[0;34m.\u001b[0m\u001b[0mevents\u001b[0m\u001b[0;34m]\u001b[0m\u001b[0;34m\u001b[0m\u001b[0m\n",
      "\u001b[0;31mIndexError\u001b[0m: list index out of range"
     ]
    }
   ],
   "source": [
    "list_of_epochs = [] # an empty list of found epochs to be concatenated\n",
    "# loop through subdirs and concatenate data\n",
    "for root, subdirs, files in os.walk(the_data_path):\n",
    "    for dirs in subdirs:\n",
    "        print(\"device:{} user:{} dir:{}\".format(the_device,the_user,dirs))\n",
    "        file_list = os.listdir(os.path.join(root,dirs))\n",
    "        for _f in file_list:\n",
    "            if len(_f.split('.')[0]) <= 1 or \".pkl\" in _f:\n",
    "                file_list.remove(_f)\n",
    "            else:\n",
    "                 if \".fif\" in _f:\n",
    "                    print(\"found:{}\".format(_f))\n",
    "                    list_of_epochs.append(read_raw_fif(_f))\n",
    "the_epochs = concatenate_epochs(list_of_epochs)\n",
    "plotConditions(the_epochs, the_units, len(channel_names)-1, diff_waveform = (2,1) ,conditions = conditions)\n",
    "#plt.savefig(os.path.join(the_data_path,\"CONDITIONS.png\"),dpi = 800,format = \"png\")\n",
    "\n",
    "       \n",
    "\n"
   ]
  },
  {
   "cell_type": "code",
   "execution_count": null,
   "metadata": {},
   "outputs": [],
   "source": []
  }
 ],
 "metadata": {
  "kernelspec": {
   "display_name": "Python 3",
   "language": "python",
   "name": "python3"
  },
  "language_info": {
   "codemirror_mode": {
    "name": "ipython",
    "version": 3
   },
   "file_extension": ".py",
   "mimetype": "text/x-python",
   "name": "python",
   "nbconvert_exporter": "python",
   "pygments_lexer": "ipython3",
   "version": "3.5.4"
  }
 },
 "nbformat": 4,
 "nbformat_minor": 2
}
