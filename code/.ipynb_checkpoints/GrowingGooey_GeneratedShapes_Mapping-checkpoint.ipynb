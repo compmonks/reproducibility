{
 "cells": [
  {
   "cell_type": "markdown",
   "metadata": {},
   "source": [
    "# INFO\n",
    "- experiment: growing gooey\n",
    "- stimulation: rsvp 100ms(stim) / 75ms(blank) / 2500ms break between tokens / 15 flashes per char / 6 tokens max per shape for a max time of 18 seconds.\n",
    "\n",
    "- users tested: 1\n",
    "- devices tested : \n",
    "    - OpenBCI: freq 125Hz / channels FC3,FCz,FC4,T7,C3,Cz,C4,T8,P7,P3,Pz,P4,P8,O1,O2,Oz\n",
    "- metric used : ...\n",
    "\n",
    "\n",
    "This code demonstrates How to apply dimensionality reduction to generated objects of the same category, with or without several classes, with T-SNE and UMAP for comparison. Parameters may be adjusted to show more general or more local data structures."
   ]
  },
  {
   "cell_type": "markdown",
   "metadata": {},
   "source": [
    "# DEPENDENCIES"
   ]
  },
  {
   "cell_type": "code",
   "execution_count": 1,
   "metadata": {},
   "outputs": [],
   "source": [
    "# BUILT-IN\n",
    "import os\n",
    "import math\n",
    "import datetime\n",
    "import json\n",
    "\n",
    "# ML\n",
    "from sklearn.preprocessing import normalize\n",
    "import umap\n",
    "from sklearn.manifold import TSNE\n",
    "\n",
    "# DATAFRAMES\n",
    "import numpy as np\n",
    "import pandas as pd\n",
    "\n",
    "# PLOTTING\n",
    "from matplotlib import pyplot as plt\n",
    "import seaborn as sns\n",
    "%matplotlib inline"
   ]
  },
  {
   "cell_type": "markdown",
   "metadata": {},
   "source": [
    "# SETTINGS"
   ]
  },
  {
   "cell_type": "code",
   "execution_count": 8,
   "metadata": {},
   "outputs": [],
   "source": [
    "the_folder_path = \"../data/growing_gooey\" # relative datasets path\n",
    "the_user = \"compmonks\" # check available users in data folder or add new ones\n",
    "the_device = \"openbci_v207\" # available devices\n",
    "the_data_path = os.path.join(the_folder_path,the_device,the_user,\"mapping\")\n",
    "\n",
    "#\n",
    "sns.set_context('paper')\n",
    "sns.set_style('darkgrid')\n",
    "diverging_color_palette = \"coolwarm\"\n",
    "categorical_color_palette = \"Paired\"\n",
    "#\n",
    "reduction_metric = 'euclidean'\n",
    "min_dist = 1.\n",
    "n_neighbors = 10\n",
    "learning_rate = 200.\n",
    "n_epochs = 1000\n",
    "random_state=42\n",
    "spread = 20.\n",
    "n_components=2"
   ]
  },
  {
   "cell_type": "markdown",
   "metadata": {},
   "source": [
    "# UTILS"
   ]
  },
  {
   "cell_type": "code",
   "execution_count": 20,
   "metadata": {},
   "outputs": [],
   "source": [
    "def getDataFile(the_path):\n",
    "    \"\"\"...\"\"\"\n",
    "    \n",
    "    with open(\"{}\".format(the_path),'r') as data_file:\n",
    "        load_data = json.load(data_file)\n",
    "        the_data = np.empty([len(load_data),len(load_data[0])])\n",
    "        for i,elem in enumerate(load_data):\n",
    "            the_data[i] = np.asarray(elem) \n",
    "    return the_data\n",
    "   \n",
    "#\n",
    "def applyUMAP(the_data):\n",
    "    \"\"\"...\"\"\"\n",
    "    \n",
    "    map_coords = {}\n",
    "    df = pd.DataFrame(data = the_data)\n",
    "    # remove constant columns\n",
    "    df = df.loc[:, (df != df.iloc[0]).any()]\n",
    "    for _col in df:\n",
    "        if df[_col].round(3).nunique() <= 2:\n",
    "            df = df.drop([_col], axis=1)\n",
    "    # apply UMAP\n",
    "    reducer = umap.UMAP(random_state=random_state, n_epochs = n_epochs, learning_rate = learning_rate, n_neighbors = n_neighbors, min_dist = min_dist,spread = spread,n_components=n_components, metric = reduction_metric)\n",
    "    reduced = reducer.fit_transform(df)\n",
    "    # get 2d coords\n",
    "    for i,coords in enumerate(reduced):\n",
    "        map_coords[\"{}\".format(i)] = reduced[i]\n",
    "        \n",
    "    return map_coords\n",
    "#\n",
    "def applyTSNE(the_data):\n",
    "    \"\"\"...\"\"\"\n",
    "    \n",
    "    map_coords = {}\n",
    "    df = pd.DataFrame(data = the_data)\n",
    "    # remove constant columns\n",
    "    df = df.loc[:, (df != df.iloc[0]).any()]\n",
    "    for _col in df:\n",
    "        if df[_col].round(3).nunique() <= 2:\n",
    "            df = df.drop([_col], axis=1)\n",
    "    # apply TSNE\n",
    "    reducer = TSNE(n_components=n_components,\n",
    "                   early_exaggeration=min_dist,\n",
    "                   perplexity=n_neighbors,\n",
    "                   learning_rate=learning_rate,\n",
    "                   n_iter=n_epochs,\n",
    "                   metric=reduction_metric,\n",
    "                   random_state=random_state)\n",
    "    reduced = reducer.fit_transform(df)\n",
    "    # get 2d coords\n",
    "    for i,coords in enumerate(reduced):\n",
    "        map_coords[\"{}\".format(i)] = reduced[i]\n",
    "        \n",
    "    return map_coords\n",
    "#\n",
    "def plotMap(the_type,the_coords, prop_index,the_properties,save_plot=False):\n",
    "    \"\"\"...\"\"\"\n",
    "    \n",
    "    palette = sns.color_palette(categorical_color_palette, len(prop_index))\n",
    "    _map = np.empty([len(the_coords), 3])\n",
    "    for i,_part in enumerate(the_coords):\n",
    "        #print(\"prop_index:{}\".format(np.where(prop_index)))\n",
    "        #print(\"the_properties[_part]:{}\".format(the_properties[i]))\n",
    "        _map[i] = [the_coords[_part][0],the_coords[_part][1],int(np.where(prop_index==the_properties[i])[0])]\n",
    "\n",
    "    plt.figure(figsize=[10,4])\n",
    "    the_file_name = \"{}-{}.png\".format(the_type,datetime.datetime.now())\n",
    "    sc = sns.scatterplot(x=_map[:,0], \n",
    "                    y=_map[:,1], \n",
    "                    hue=_map[:,2].astype(int), \n",
    "                    #label = [label.split(\"[\")[-1].split(\"]\")[0] for label in self.prop_index],\n",
    "                    palette = palette\n",
    "                    )\n",
    "    sc.set_xticklabels([])\n",
    "    sc.set_yticklabels([])\n",
    "    plt.title(the_type)\n",
    "    if save_plot:\n",
    "        plt.savefig(os.path.join(the_data_path,\"UMAP.png\"),dpi = 800,format = \"png\")\n",
    "    plt.show()"
   ]
  },
  {
   "cell_type": "markdown",
   "metadata": {},
   "source": [
    "# UMAP"
   ]
  },
  {
   "cell_type": "code",
   "execution_count": 21,
   "metadata": {},
   "outputs": [
    {
     "name": "stdout",
     "output_type": "stream",
     "text": [
      "folder:openbci_v207/compmonks/mattepink_same_continuous\n",
      "found file: compmonks_3_OBJECT-DATA_2019-6-19_11-8-12-023000.json\n",
      "found file: compmonks_5_OBJECT-DATA_2019-6-24_21-4-26-735000.json\n",
      "found file: compmonks_5_OBJECT-DATA_2019-6-24_20-28-31-469000.json\n",
      "found file: compmonks_5_OBJECT-DATA_2019-6-24_20-46-15-310000.json\n",
      "found file: compmonks_3_OBJECT-DATA_2019-6-17_9-31-28-166000.json\n",
      "found file: compmonks_3_OBJECT-DATA_2019-6-21_9-48-36-166000.json\n",
      "found file: compmonks_5_OBJECT-DATA_2019-6-24_18-30-9-981000.json\n",
      "found file: compmonks_3_OBJECT-DATA_2019-6-21_8-53-23-680000.json\n",
      "found file: compmonks_5_OBJECT-DATA_2019-6-24_18-22-33-028000.json\n",
      "found file: compmonks_5_OBJECT-DATA_2019-6-24_21-39-11-095000.json\n",
      "found file: compmonks_3_OBJECT-DATA_2019-6-17_9-42-47-209000.json\n",
      "found file: compmonks_5_OBJECT-DATA_2019-6-24_18-47-13-266000.json\n",
      "found file: compmonks_3_OBJECT-DATA_2019-6-16_16-28-2-235000.json\n",
      "found file: compmonks_3_OBJECT-DATA_2019-6-16_15-47-7-954000.json\n",
      "found file: compmonks_5_OBJECT-DATA_2019-6-24_20-57-51-139000.json\n",
      "found file: compmonks_5_OBJECT-DATA_2019-6-24_8-24-11-150000.json\n",
      "found file: compmonks_3_OBJECT-DATA_2019-6-21_9-31-2-237000.json\n",
      "found file: compmonks_3_OBJECT-DATA_2019-6-16_16-46-37-833000.json\n",
      "found file: compmonks_3_OBJECT-DATA_2019-6-21_9-4-30-339000.json\n",
      "found file: compmonks_5_OBJECT-DATA_2019-6-24_9-11-47-972000.json\n",
      "found file: compmonks_5_OBJECT-DATA_2019-6-24_8-42-24-352000.json\n",
      "found file: compmonks_3_OBJECT-DATA_2019-6-16_16-14-37-503000.json\n",
      "found file: compmonks_5_OBJECT-DATA_2019-6-24_8-9-30-913000.json\n",
      "found file: compmonks_5_OBJECT-DATA_2019-6-24_18-39-35-911000.json\n",
      "found file: compmonks_5_OBJECT-DATA_2019-6-24_7-59-27-104000.json\n",
      "found file: compmonks_3_OBJECT-DATA_2019-6-21_9-57-45-978000.json\n",
      "found file: compmonks_3_OBJECT-DATA_2019-6-16_15-58-53-312000.json\n",
      "found file: compmonks_5_OBJECT-DATA_2019-6-24_18-12-59-430000.json\n",
      "found file: compmonks_3_OBJECT-DATA_2019-6-19_10-59-35-877000.json\n",
      "found file: compmonks_5_OBJECT-DATA_2019-6-24_9-33-49-274000.json\n",
      "found file: compmonks_5_OBJECT-DATA_2019-6-24_20-37-58-989000.json\n",
      "found file: compmonks_3_OBJECT-DATA_2019-6-16_18-51-5-629000.json\n",
      "found file: compmonks_5_OBJECT-DATA_2019-6-24_9-0-54-015000.json\n",
      "found file: compmonks_5_OBJECT-DATA_2019-6-24_21-11-34-403000.json\n",
      "found file: compmonks_3_OBJECT-DATA_2019-6-21_9-14-29-650000.json\n",
      "found file: compmonks_3_OBJECT-DATA_2019-6-21_10-5-16-711000.json\n",
      "found file: compmonks_5_OBJECT-DATA_2019-6-24_8-53-22-674000.json\n",
      "found file: compmonks_3_OBJECT-DATA_2019-6-17_10-3-17-000000.json\n",
      "found file: compmonks_3_OBJECT-DATA_2019-6-21_9-37-45-019000.json\n",
      "found file: compmonks_5_OBJECT-DATA_2019-6-24_21-23-58-071000.json\n",
      "found file: compmonks_3_OBJECT-DATA_2019-6-21_9-23-18-441000.json\n",
      "found file: compmonks_3_OBJECT-DATA_2019-6-17_9-49-39-495000.json\n",
      "found file: compmonks_5_OBJECT-DATA_2019-6-24_21-30-38-807000.json\n",
      "found file: compmonks_5_OBJECT-DATA_2019-6-24_9-23-37-446000.json\n",
      "found file: compmonks_3_OBJECT-DATA_2019-6-16_16-37-53-291000.json\n",
      "found file: compmonks_3_OBJECT-DATA_2019-6-19_9-50-44-118000.json\n",
      "found file: compmonks_5_OBJECT-DATA_2019-6-24_8-34-55-635000.json\n",
      "found file: compmonks_3_OBJECT-DATA_2019-6-16_18-13-15-297000.json\n",
      "found file: compmonks_3_OBJECT-DATA_2019-6-16_16-33-9-552000.json\n",
      "found file: compmonks_5_OBJECT-DATA_2019-6-24_21-19-44-370000.json\n",
      "folder:openbci_v207/compmonks/up_to_GROWING_GOOEY_49\n"
     ]
    },
    {
     "name": "stderr",
     "output_type": "stream",
     "text": [
      "/Users/pierrecutellic/py35/lib/python3.5/site-packages/umap/umap_.py:1031: RuntimeWarning: divide by zero encountered in power\n",
      "  return 1.0 / (1.0 + a * x ** (2 * b))\n",
      "/Users/pierrecutellic/py35/lib/python3.5/site-packages/umap/spectral.py:229: UserWarning: Embedding a total of 3 separate connected components using meta-embedding (experimental)\n",
      "  n_components\n"
     ]
    },
    {
     "data": {
      "image/png": "[encoded data removed]",
      "text/plain": [
       "<Figure size 720x288 with 1 Axes>"
      ]
     },
     "metadata": {},
     "output_type": "display_data"
    },
    {
     "data": {
      "image/png": "[encoded data removed]",
      "text/plain": [
       "<Figure size 720x288 with 1 Axes>"
      ]
     },
     "metadata": {},
     "output_type": "display_data"
    }
   ],
   "source": [
    "datafiles = []\n",
    "properties = []\n",
    "\n",
    "# get all files\n",
    "for root, subdirs, files in os.walk(the_data_path):\n",
    "    for dirs in subdirs:\n",
    "        print(\"folder:{}/{}/{}\".format(the_device,the_user,dirs))\n",
    "        file_list = os.listdir(os.path.join(root,dirs))\n",
    "        for _f in file_list:\n",
    "            if \".json\" in _f:\n",
    "                print(\"found file: {}\".format(_f))\n",
    "                datafiles.append(os.path.join(root,dirs,_f))\n",
    "                properties.append(\"{}\".format(dirs))\n",
    "prop_index = np.unique(properties)    \n",
    "the_data = [getDataFile(filepath) for filepath in datafiles]\n",
    "\n",
    "# get max amount of elements in a parts in one file\n",
    "the_max_part = max(len(_p) for _p in the_data)\n",
    "# get the length of params (ie params) in one element\n",
    "the_part_len = len(the_data[0][0])\n",
    "\n",
    "# equalize parts elements num with empty elements\n",
    "the_filler = [0. for i in range(the_part_len)]\n",
    "for i,_p in enumerate(the_data):\n",
    "    if len(_p) < the_max_part:\n",
    "        for j in range(the_max_part-len(_p)):\n",
    "            the_data[i] = np.vstack((the_data[i],the_filler))\n",
    "the_stacked_data = np.empty([len(the_data),the_max_part,the_part_len])\n",
    "for i,_r in enumerate(the_stacked_data):\n",
    "    the_stacked_data[i] = the_data[i]\n",
    "\n",
    "# normalize data and concatenate part elements\n",
    "the_stacked_data = normalize(the_stacked_data.reshape(the_stacked_data.shape[0],-1),norm=\"l2\",axis=1).reshape(the_stacked_data.shape)\n",
    "the_stacked_data = the_stacked_data.reshape(the_stacked_data.shape[0],-1)\n",
    "\n",
    "# apply UMAP\n",
    "mapped_U = applyUMAP(np.copy(the_stacked_data))\n",
    "plotMap(\"UMAP\",mapped_U, prop_index,properties,save_plot=False)\n",
    "\n",
    "# try with TSNE\n",
    "mapped_T = applyTSNE(np.copy(the_stacked_data))\n",
    "plotMap(\"TSNE\",mapped_T, prop_index,properties,save_plot=False)\n"
   ]
  },
  {
   "cell_type": "code",
   "execution_count": null,
   "metadata": {},
   "outputs": [],
   "source": []
  }
 ],
 "metadata": {
  "kernelspec": {
   "display_name": "Python 3",
   "language": "python",
   "name": "python3"
  },
  "language_info": {
   "codemirror_mode": {
    "name": "ipython",
    "version": 3
   },
   "file_extension": ".py",
   "mimetype": "text/x-python",
   "name": "python",
   "nbconvert_exporter": "python",
   "pygments_lexer": "ipython3",
   "version": "3.5.4"
  }
 },
 "nbformat": 4,
 "nbformat_minor": 2
}
