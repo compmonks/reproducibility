{
 "cells": [
  {
   "cell_type": "markdown",
   "metadata": {},
   "source": [
    "# INFO\n",
    "- experiment: growing gooey\n",
    "- stimulation: rsvp 100ms(stim) / 75ms(blank) / 2500ms break between tokens / 15 flashes per char / 6 tokens max per shape for a max time of 18 seconds.\n",
    "\n",
    "- users tested: 1\n",
    "- devices tested : \n",
    "    - OpenBCI: freq 125Hz / channels FC3,FCz,FC4,T7,C3,Cz,C4,T8,P7,P3,Pz,P4,P8,O1,O2,Oz\n",
    "\n",
    "This code demonstrates how to read epoched data which already has been processed and used for predictions. It loads and concatenates each epoch to plot the data and visualize discriminated signals in correlation with stimulus."
   ]
  },
  {
   "cell_type": "markdown",
   "metadata": {},
   "source": [
    "# DEPENDENCIES"
   ]
  },
  {
   "cell_type": "code",
   "execution_count": 1,
   "metadata": {},
   "outputs": [],
   "source": [
    "# BUILT-IN\n",
    "import os\n",
    "import math\n",
    "from collections import OrderedDict\n",
    "\n",
    "# DATAFRAMES\n",
    "import numpy as np\n",
    "import pandas as pd\n",
    "\n",
    "# PLOTTING\n",
    "import matplotlib\n",
    "import matplotlib.pyplot as plt\n",
    "import seaborn as sns\n",
    "%matplotlib inline\n",
    "\n",
    "# MNE\n",
    "from mne import concatenate_epochs, read_epochs"
   ]
  },
  {
   "cell_type": "markdown",
   "metadata": {},
   "source": [
    "# SETTINGS"
   ]
  },
  {
   "cell_type": "code",
   "execution_count": 2,
   "metadata": {},
   "outputs": [],
   "source": [
    "the_folder_path = \"../data/growing_gooey\" # relative datasets path\n",
    "the_user = \"compmonks\" # check available users in data folder or add new ones\n",
    "the_device = \"openbci_v207\" # available devices\n",
    "the_units = \"uVolts\" # \"uVolts\" # \"Volts\" # unit of received data from device\n",
    "the_montage = \"standard_1020\" # \"standard_1020\" (OpenBCI) # channels montage\n",
    "the_markers = {'Non-Target': 2, 'Target': 1} # markers from stim data\n",
    "conditions = OrderedDict()\n",
    "conditions['2: Non-target'] = [the_markers[\"Non-Target\"]]\n",
    "conditions['1: Target'] = [the_markers[\"Target\"]]\n",
    "sns.set_context('talk') # seaborn settings\n",
    "sns.set_style('white') # seaborn settings\n",
    "diverging_color_palette = \"coolwarm\" # seaborn settings\n",
    "\n",
    "# training data for comparison\n",
    "training_folder_path = \"../data/p300_speller/\"\n",
    "the_data_path = os.path.join(the_folder_path,the_device,the_user,\"testing\")"
   ]
  },
  {
   "cell_type": "markdown",
   "metadata": {},
   "source": [
    "# UTILS"
   ]
  },
  {
   "cell_type": "code",
   "execution_count": 3,
   "metadata": {},
   "outputs": [],
   "source": [
    "def plotConditions(the_epochs, unit, channels_num, diff_waveform ,conditions, palette,no_legend,scaling):\n",
    "    \"\"\" Plot ERP conditions. \"\"\"    \n",
    "    \n",
    "    confidence_interval = 97.5 # confidence interval in range [0, 100]\n",
    "    bootstrap_samples = 1000 # number of bootstrap samples\n",
    "    title = 'ERP Conditions'\n",
    "    ylim = (-2,2) #(tuple): (ymin, ymax)\n",
    "    if isinstance(conditions, dict):\n",
    "        conditions = OrderedDict(conditions)\n",
    "        palette = sns.color_palette(palette, len(conditions))\n",
    "        if unit == \"uVolts\"and scaling:\n",
    "            X = the_epochs.get_data() * 1e6 # convert from Volts to uVolts\n",
    "        else:\n",
    "            X = the_epochs.get_data()\n",
    "        y = pd.Series(the_epochs.events[:, -1])\n",
    "        times = the_epochs.times\n",
    "        # get the amount of rows and columns and set axes\n",
    "        fig_cell = math.ceil(math.sqrt(channels_num))\n",
    "        fig, axes = plt.subplots(fig_cell, fig_cell, figsize=[12, 12],sharex=True, sharey=True)\n",
    "        axes = [axes[row, col] for row in range(fig_cell) for col in range(fig_cell)]\n",
    "        # make the subplots\n",
    "        for ch in range(channels_num): \n",
    "            for cond, color in zip(conditions.values(), palette):\n",
    "                sns.tsplot(np.average(X[y.isin(cond), ch],axis=0),\n",
    "                           time = times, \n",
    "                           color = color,\n",
    "                           n_boot = bootstrap_samples, \n",
    "                           ci = confidence_interval, \n",
    "                           ax = axes[int(ch)]\n",
    "                          )\n",
    "            if diff_waveform:\n",
    "                diff = (np.nanmean(X[y == diff_waveform[1], ch], axis=0) - np.nanmean(X[y == diff_waveform[0], ch], axis=0))\n",
    "                axes[ch].plot(times, diff, color='darkblue', lw=0.25)\n",
    "            axes[ch].set_title(the_epochs.ch_names[ch])\n",
    "            axes[ch].title.set_fontsize(8)\n",
    "            axes[ch].set_ylim(ylim)\n",
    "            axes[ch].axvline(x=0, ymin=ylim[0], ymax=ylim[1], color='grey',lw=0.5, label='_nolegend_')\n",
    "            axes[ch].axvline(x=0.3, ymin=ylim[0], ymax=ylim[1], color='black',lw=0.5,ls=\":\", label='0.3')\n",
    "        axes[0].set_ylabel('Amplitude (uV)')\n",
    "        axes[-1].set_xlabel('Time (s)')\n",
    "        if not no_legend:\n",
    "            if diff_waveform:\n",
    "                legend = (['{} - {}'.format(diff_waveform[1], diff_waveform[0])] + list(conditions.keys()))\n",
    "            elif legend is None:\n",
    "                legend = (list(conditions.keys()))\n",
    "            else:\n",
    "                legend += conditions.keys()        \n",
    "            axes[-1].legend(legend,loc='best',fontsize='xx-small')\n",
    "        sns.despine()\n",
    "        plt.tight_layout()\n",
    "        if title:\n",
    "            fig.suptitle(title, fontsize=20)\n",
    "    else:\n",
    "        print(\"bad conditions\")"
   ]
  },
  {
   "cell_type": "markdown",
   "metadata": {},
   "source": [
    "# CONCATENATE EPOCHS AND PLOT CONDITIONS"
   ]
  },
  {
   "cell_type": "code",
   "execution_count": null,
   "metadata": {},
   "outputs": [],
   "source": [
    "# testing data\n",
    "raw = []\n",
    "file_list = os.listdir(the_data_path)\n",
    "for _f in file_list:\n",
    "    if \".fif\" in _f:\n",
    "        read_fif = read_epochs(os.path.join(the_data_path,_f),preload=True, verbose=False)\n",
    "        read_fif.events_id = the_markers\n",
    "        read_fif.info['montage'] = the_montage\n",
    "        read_fif.drop_bad(reject = {'eeg': 75e-6})\n",
    "        if len(read_fif.get_data()) >0:\n",
    "            raw.append(read_fif)\n",
    "the_epochs = concatenate_epochs(raw)\n",
    "# plot conditions\n",
    "# \n",
    "plotConditions(\n",
    "              the_epochs,\n",
    "              the_units,\n",
    "              16,\n",
    "              diff_waveform = (2,1),\n",
    "              conditions = conditions,\n",
    "              palette = diverging_color_palette,\n",
    "              no_legend = True,\n",
    "              scaling=True)\n",
    "#\n",
    "plt.savefig(os.path.join(the_data_path,\"CONDITIONS.png\"),dpi = 800,format = \"png\")\n",
    "plt.show()"
   ]
  }
 ],
 "metadata": {
  "kernelspec": {
   "display_name": "Python 3",
   "language": "python",
   "name": "python3"
  },
  "language_info": {
   "codemirror_mode": {
    "name": "ipython",
    "version": 3
   },
   "file_extension": ".py",
   "mimetype": "text/x-python",
   "name": "python",
   "nbconvert_exporter": "python",
   "pygments_lexer": "ipython3",
   "version": "3.5.4"
  }
 },
 "nbformat": 4,
 "nbformat_minor": 2
}
