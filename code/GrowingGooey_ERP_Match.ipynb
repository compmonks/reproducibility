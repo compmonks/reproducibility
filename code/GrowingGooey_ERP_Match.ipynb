{
 "cells": [
  {
   "cell_type": "markdown",
   "metadata": {},
   "source": [
    "# INFO\n",
    "- experiment: growing gooey\n",
    "- stimulation: rsvp 100ms(stim) / 75ms(blank) / 2500ms break between tokens / 15 flashes per char / 6 tokens max per shape for a max time of 18 seconds.\n",
    "\n",
    "- users tested: 1\n",
    "- devices tested : \n",
    "    - OpenBCI: freq 125Hz / channels FC3,FCz,FC4,T7,C3,Cz,C4,T8,P7,P3,Pz,P4,P8,O1,O2,Oz\n",
    "- metric used : ...\n",
    "\n",
    "\n",
    "This code demonstrates how to read epoched data which already has been processed and used for predictions. It loads and concatenates each epoch to plot the data and compare it with training conditions to show if similar patterns appear."
   ]
  },
  {
   "cell_type": "markdown",
   "metadata": {},
   "source": [
    "# DEPENDENCIES"
   ]
  },
  {
   "cell_type": "code",
   "execution_count": 10,
   "metadata": {},
   "outputs": [],
   "source": [
    "# BUILT-IN\n",
    "import os\n",
    "import math\n",
    "from collections import OrderedDict\n",
    "\n",
    "# DATAFRAMES\n",
    "import numpy as np\n",
    "import pandas as pd\n",
    "\n",
    "\n",
    "# PLOTTING\n",
    "import matplotlib.pyplot as plt\n",
    "import seaborn as sns\n",
    "%matplotlib inline\n",
    "\n",
    "# MNE\n",
    "from mne import create_info, concatenate_raws,concatenate_epochs, read_epochs,Epochs, find_events\n",
    "from mne.channels import read_montage\n",
    "from mne.io import RawArray"
   ]
  },
  {
   "cell_type": "markdown",
   "metadata": {},
   "source": [
    "# SETTINGS"
   ]
  },
  {
   "cell_type": "code",
   "execution_count": 11,
   "metadata": {},
   "outputs": [],
   "source": [
    "the_folder_path = \"../data/growing_gooey\" # relative datasets path\n",
    "the_user = \"compmonks\" # check available users in data folder or add new ones\n",
    "the_device = \"openbci_v207\" # available devices\n",
    "the_freq = 125 # 125 (OpenBCI) # Sampling Frequency in Hertz\n",
    "the_units = \"uVolts\" # \"uVolts\" # \"Volts\" # unit of received data from device\n",
    "#the_predictor_name = \"compmonks_T2_erp-cov-ts.pkl\" # trained discriminator in the data folder\n",
    "the_montage = \"standard_1020\" # \"standard_1020\" (OpenBCI) # channels montage\n",
    "the_markers = {'Non-Target': 2, 'Target': 1} # markers from stim data\n",
    "break_epoch = 2500 # time in ms of break between each character spelling sessions\n",
    "blank_index = 12 # index used to mark a non-flashing time\n",
    "sns.set_context('talk') # seaborn settings\n",
    "sns.set_style('white') # seaborn settings\n",
    "diverging_color_palette = \"coolwarm\" # seaborn settings\n",
    "categorical_color_palette = \"Paired\" # seaborn settings\n",
    "training_color_palette = \"viridis\"\n",
    "# training data for comparison\n",
    "training_folder_path = \"../data/p300_speller/\"\n",
    "the_training_path = os.path.join(training_folder_path,the_device,the_user,\"training\")\n",
    "the_additional_path = os.path.join(training_folder_path,the_device,the_user,\"additional\")\n",
    "all_sessions_data_path = list(os.walk(the_training_path)) + list(os.walk(the_additional_path))"
   ]
  },
  {
   "cell_type": "markdown",
   "metadata": {},
   "source": [
    "# UTILS"
   ]
  },
  {
   "cell_type": "code",
   "execution_count": null,
   "metadata": {},
   "outputs": [],
   "source": [
    "def plotConditions(the_epochs, unit, channels_num, diff_waveform ,conditions, palette):\n",
    "    \"\"\" Plot ERP conditions. \"\"\"\n",
    "\n",
    "    confidence_interval = 97.5 # confidence interval in range [0, 100]\n",
    "    bootstrap_samples = 1000 # number of bootstrap samples\n",
    "    title = 'ERP Conditions'\n",
    "    ylim = (-6,6) #(tuple): (ymin, ymax)\n",
    "    if isinstance(conditions, dict):\n",
    "        conditions = OrderedDict(conditions)\n",
    "        palette = sns.color_palette(diverging_color_palette, len(conditions))\n",
    "        if unit == \"Volts\":\n",
    "            X = the_epochs.get_data() \n",
    "        elif unit == \"uVolts\":\n",
    "            X = the_epochs.get_data() * 1e6 # convert from Volts to uVolts\n",
    "        else:\n",
    "            raise        \n",
    "        times = the_epochs.times\n",
    "        y = pd.Series(the_epochs.events[:, -1])\n",
    "        # get the amount of rows and columns and set axes\n",
    "        fig_cell = math.ceil(math.sqrt(channels_num))\n",
    "        fig, axes = plt.subplots(fig_cell, fig_cell, figsize=[12, 6],sharex=True, sharey=True)\n",
    "        axes = [axes[row, col] for row in range(fig_cell) for col in range(fig_cell)]\n",
    "        # make the subplots\n",
    "        for ch in range(channels_num):\n",
    "            for cond, color in zip(conditions.values(), palette):\n",
    "                sns.tsplot(X[y.isin(cond), ch],\n",
    "                           time = times, \n",
    "                           color = color,\n",
    "                           n_boot = bootstrap_samples, \n",
    "                           ci = confidence_interval, \n",
    "                           ax = axes[ch])\n",
    "            if diff_waveform:\n",
    "                diff = (np.nanmean(X[y == diff_waveform[1], ch], axis=0) - np.nanmean(X[y == diff_waveform[0], ch], axis=0))\n",
    "                axes[ch].plot(times, diff, color='darkblue', lw=0.25)\n",
    "            axes[ch].set_title(the_epochs.ch_names[ch])\n",
    "            axes[ch].title.set_fontsize(8)\n",
    "            axes[ch].set_ylim(ylim)\n",
    "            axes[ch].axvline(x=0, ymin=ylim[0], ymax=ylim[1], color='grey',lw=0.5, label='_nolegend_')\n",
    "            axes[ch].axvline(x=0.3, ymin=ylim[0], ymax=ylim[1], color='black',lw=0.5,ls=\":\", label='0.3')\n",
    "        axes[0].set_ylabel('Amplitude (uV)')\n",
    "        axes[-1].set_xlabel('Time (s)')\n",
    "        if diff_waveform:\n",
    "            legend = (['{} - {}'.format(diff_waveform[1], diff_waveform[0])] + list(conditions.keys()))\n",
    "        else:\n",
    "            legend = conditions.keys()\n",
    "        axes[-1].legend(legend,loc='best',fontsize='xx-small')\n",
    "        sns.despine()\n",
    "        plt.tight_layout()\n",
    "        if title:\n",
    "            fig.suptitle(title, fontsize=20)\n",
    "        #\n",
    "        plt.show()\n",
    "    else:\n",
    "        print(\"bad conditions\")"
   ]
  },
  {
   "cell_type": "markdown",
   "metadata": {},
   "source": [
    "# CONCATENATE EPOCHS AND PLOT CONDITIONS"
   ]
  },
  {
   "cell_type": "code",
   "execution_count": null,
   "metadata": {},
   "outputs": [
    {
     "name": "stdout",
     "output_type": "stream",
     "text": [
      "device:openbci_v207 user:compmonks dir:session_003\n",
      "   found:compmonks_G5_OPENBCI-Cytonv207_2019-6-25_17-41-17-805138.fif\n",
      "This filename (../data/growing_gooey/openbci_v207/compmonks/testing/session_003/compmonks_G5_OPENBCI-Cytonv207_2019-6-25_17-41-17-805138.fif) does not conform to MNE naming conventions. All epochs files should end with -epo.fif, -epo.fif.gz, _epo.fif or _epo.fif.gz\n",
      "   found:compmonks_G5_OPENBCI-Cytonv207_2019-6-25_17-39-15-154463.fif\n",
      "This filename (../data/growing_gooey/openbci_v207/compmonks/testing/session_003/compmonks_G5_OPENBCI-Cytonv207_2019-6-25_17-39-15-154463.fif) does not conform to MNE naming conventions. All epochs files should end with -epo.fif, -epo.fif.gz, _epo.fif or _epo.fif.gz\n",
      "   found:compmonks_G5_OPENBCI-Cytonv207_2019-6-25_17-40-15-595340.fif\n",
      "This filename (../data/growing_gooey/openbci_v207/compmonks/testing/session_003/compmonks_G5_OPENBCI-Cytonv207_2019-6-25_17-40-15-595340.fif) does not conform to MNE naming conventions. All epochs files should end with -epo.fif, -epo.fif.gz, _epo.fif or _epo.fif.gz\n"
     ]
    },
    {
     "name": "stderr",
     "output_type": "stream",
     "text": [
      "<ipython-input-13-b60c705f8e89>:15: RuntimeWarning: This filename (../data/growing_gooey/openbci_v207/compmonks/testing/session_003/compmonks_G5_OPENBCI-Cytonv207_2019-6-25_17-41-17-805138.fif) does not conform to MNE naming conventions. All epochs files should end with -epo.fif, -epo.fif.gz, _epo.fif or _epo.fif.gz\n",
      "  list_of_epochs.append(read_epochs(os.path.join(root,dirs,_f),preload=False, verbose=False))\n",
      "<ipython-input-13-b60c705f8e89>:15: RuntimeWarning: This filename (../data/growing_gooey/openbci_v207/compmonks/testing/session_003/compmonks_G5_OPENBCI-Cytonv207_2019-6-25_17-39-15-154463.fif) does not conform to MNE naming conventions. All epochs files should end with -epo.fif, -epo.fif.gz, _epo.fif or _epo.fif.gz\n",
      "  list_of_epochs.append(read_epochs(os.path.join(root,dirs,_f),preload=False, verbose=False))\n",
      "<ipython-input-13-b60c705f8e89>:15: RuntimeWarning: This filename (../data/growing_gooey/openbci_v207/compmonks/testing/session_003/compmonks_G5_OPENBCI-Cytonv207_2019-6-25_17-40-15-595340.fif) does not conform to MNE naming conventions. All epochs files should end with -epo.fif, -epo.fif.gz, _epo.fif or _epo.fif.gz\n",
      "  list_of_epochs.append(read_epochs(os.path.join(root,dirs,_f),preload=False, verbose=False))\n"
     ]
    },
    {
     "name": "stdout",
     "output_type": "stream",
     "text": [
      "   found:compmonks_G5_OPENBCI-Cytonv207_2019-6-25_17-38-13-511994.fif\n",
      "This filename (../data/growing_gooey/openbci_v207/compmonks/testing/session_003/compmonks_G5_OPENBCI-Cytonv207_2019-6-25_17-38-13-511994.fif) does not conform to MNE naming conventions. All epochs files should end with -epo.fif, -epo.fif.gz, _epo.fif or _epo.fif.gz\n",
      "   found:compmonks_G5_OPENBCI-Cytonv207_2019-6-25_17-42-18-192829.fif\n",
      "This filename (../data/growing_gooey/openbci_v207/compmonks/testing/session_003/compmonks_G5_OPENBCI-Cytonv207_2019-6-25_17-42-18-192829.fif) does not conform to MNE naming conventions. All epochs files should end with -epo.fif, -epo.fif.gz, _epo.fif or _epo.fif.gz\n",
      "device:openbci_v207 user:compmonks dir:session_004\n",
      "   found:compmonks_G5_OPENBCI-Cytonv207_2019-6-25_17-46-23-241172.fif\n",
      "This filename (../data/growing_gooey/openbci_v207/compmonks/testing/session_004/compmonks_G5_OPENBCI-Cytonv207_2019-6-25_17-46-23-241172.fif) does not conform to MNE naming conventions. All epochs files should end with -epo.fif, -epo.fif.gz, _epo.fif or _epo.fif.gz\n",
      "   found:compmonks_G5_OPENBCI-Cytonv207_2019-6-25_17-48-24-679440.fif\n",
      "This filename (../data/growing_gooey/openbci_v207/compmonks/testing/session_004/compmonks_G5_OPENBCI-Cytonv207_2019-6-25_17-48-24-679440.fif) does not conform to MNE naming conventions. All epochs files should end with -epo.fif, -epo.fif.gz, _epo.fif or _epo.fif.gz\n"
     ]
    },
    {
     "name": "stderr",
     "output_type": "stream",
     "text": [
      "<ipython-input-13-b60c705f8e89>:15: RuntimeWarning: This filename (../data/growing_gooey/openbci_v207/compmonks/testing/session_003/compmonks_G5_OPENBCI-Cytonv207_2019-6-25_17-38-13-511994.fif) does not conform to MNE naming conventions. All epochs files should end with -epo.fif, -epo.fif.gz, _epo.fif or _epo.fif.gz\n",
      "  list_of_epochs.append(read_epochs(os.path.join(root,dirs,_f),preload=False, verbose=False))\n",
      "<ipython-input-13-b60c705f8e89>:15: RuntimeWarning: This filename (../data/growing_gooey/openbci_v207/compmonks/testing/session_003/compmonks_G5_OPENBCI-Cytonv207_2019-6-25_17-42-18-192829.fif) does not conform to MNE naming conventions. All epochs files should end with -epo.fif, -epo.fif.gz, _epo.fif or _epo.fif.gz\n",
      "  list_of_epochs.append(read_epochs(os.path.join(root,dirs,_f),preload=False, verbose=False))\n",
      "<ipython-input-13-b60c705f8e89>:15: RuntimeWarning: This filename (../data/growing_gooey/openbci_v207/compmonks/testing/session_004/compmonks_G5_OPENBCI-Cytonv207_2019-6-25_17-46-23-241172.fif) does not conform to MNE naming conventions. All epochs files should end with -epo.fif, -epo.fif.gz, _epo.fif or _epo.fif.gz\n",
      "  list_of_epochs.append(read_epochs(os.path.join(root,dirs,_f),preload=False, verbose=False))\n",
      "<ipython-input-13-b60c705f8e89>:15: RuntimeWarning: This filename (../data/growing_gooey/openbci_v207/compmonks/testing/session_004/compmonks_G5_OPENBCI-Cytonv207_2019-6-25_17-48-24-679440.fif) does not conform to MNE naming conventions. All epochs files should end with -epo.fif, -epo.fif.gz, _epo.fif or _epo.fif.gz\n",
      "  list_of_epochs.append(read_epochs(os.path.join(root,dirs,_f),preload=False, verbose=False))\n"
     ]
    },
    {
     "name": "stdout",
     "output_type": "stream",
     "text": [
      "   found:compmonks_G5_OPENBCI-Cytonv207_2019-6-25_17-50-25-556015.fif\n",
      "This filename (../data/growing_gooey/openbci_v207/compmonks/testing/session_004/compmonks_G5_OPENBCI-Cytonv207_2019-6-25_17-50-25-556015.fif) does not conform to MNE naming conventions. All epochs files should end with -epo.fif, -epo.fif.gz, _epo.fif or _epo.fif.gz\n",
      "   found:compmonks_G5_OPENBCI-Cytonv207_2019-6-25_17-47-24-612508.fif\n",
      "This filename (../data/growing_gooey/openbci_v207/compmonks/testing/session_004/compmonks_G5_OPENBCI-Cytonv207_2019-6-25_17-47-24-612508.fif) does not conform to MNE naming conventions. All epochs files should end with -epo.fif, -epo.fif.gz, _epo.fif or _epo.fif.gz\n",
      "   found:compmonks_G5_OPENBCI-Cytonv207_2019-6-25_17-49-25-362073.fif\n",
      "This filename (../data/growing_gooey/openbci_v207/compmonks/testing/session_004/compmonks_G5_OPENBCI-Cytonv207_2019-6-25_17-49-25-362073.fif) does not conform to MNE naming conventions. All epochs files should end with -epo.fif, -epo.fif.gz, _epo.fif or _epo.fif.gz\n",
      "device:openbci_v207 user:compmonks dir:session_005\n",
      "   found:compmonks_G5_OPENBCI-Cytonv207_2019-6-25_17-58-9-292912.fif\n",
      "This filename (../data/growing_gooey/openbci_v207/compmonks/testing/session_005/compmonks_G5_OPENBCI-Cytonv207_2019-6-25_17-58-9-292912.fif) does not conform to MNE naming conventions. All epochs files should end with -epo.fif, -epo.fif.gz, _epo.fif or _epo.fif.gz\n"
     ]
    },
    {
     "name": "stderr",
     "output_type": "stream",
     "text": [
      "<ipython-input-13-b60c705f8e89>:15: RuntimeWarning: This filename (../data/growing_gooey/openbci_v207/compmonks/testing/session_004/compmonks_G5_OPENBCI-Cytonv207_2019-6-25_17-50-25-556015.fif) does not conform to MNE naming conventions. All epochs files should end with -epo.fif, -epo.fif.gz, _epo.fif or _epo.fif.gz\n",
      "  list_of_epochs.append(read_epochs(os.path.join(root,dirs,_f),preload=False, verbose=False))\n",
      "<ipython-input-13-b60c705f8e89>:15: RuntimeWarning: This filename (../data/growing_gooey/openbci_v207/compmonks/testing/session_004/compmonks_G5_OPENBCI-Cytonv207_2019-6-25_17-47-24-612508.fif) does not conform to MNE naming conventions. All epochs files should end with -epo.fif, -epo.fif.gz, _epo.fif or _epo.fif.gz\n",
      "  list_of_epochs.append(read_epochs(os.path.join(root,dirs,_f),preload=False, verbose=False))\n",
      "<ipython-input-13-b60c705f8e89>:15: RuntimeWarning: This filename (../data/growing_gooey/openbci_v207/compmonks/testing/session_004/compmonks_G5_OPENBCI-Cytonv207_2019-6-25_17-49-25-362073.fif) does not conform to MNE naming conventions. All epochs files should end with -epo.fif, -epo.fif.gz, _epo.fif or _epo.fif.gz\n",
      "  list_of_epochs.append(read_epochs(os.path.join(root,dirs,_f),preload=False, verbose=False))\n",
      "<ipython-input-13-b60c705f8e89>:15: RuntimeWarning: This filename (../data/growing_gooey/openbci_v207/compmonks/testing/session_005/compmonks_G5_OPENBCI-Cytonv207_2019-6-25_17-58-9-292912.fif) does not conform to MNE naming conventions. All epochs files should end with -epo.fif, -epo.fif.gz, _epo.fif or _epo.fif.gz\n",
      "  list_of_epochs.append(read_epochs(os.path.join(root,dirs,_f),preload=False, verbose=False))\n"
     ]
    },
    {
     "name": "stdout",
     "output_type": "stream",
     "text": [
      "   found:compmonks_G5_OPENBCI-Cytonv207_2019-6-25_17-54-58-582916.fif\n",
      "This filename (../data/growing_gooey/openbci_v207/compmonks/testing/session_005/compmonks_G5_OPENBCI-Cytonv207_2019-6-25_17-54-58-582916.fif) does not conform to MNE naming conventions. All epochs files should end with -epo.fif, -epo.fif.gz, _epo.fif or _epo.fif.gz\n",
      "   found:compmonks_G5_OPENBCI-Cytonv207_2019-6-25_17-57-6-973281.fif\n",
      "This filename (../data/growing_gooey/openbci_v207/compmonks/testing/session_005/compmonks_G5_OPENBCI-Cytonv207_2019-6-25_17-57-6-973281.fif) does not conform to MNE naming conventions. All epochs files should end with -epo.fif, -epo.fif.gz, _epo.fif or _epo.fif.gz\n",
      "   found:compmonks_G5_OPENBCI-Cytonv207_2019-6-25_17-56-4-201062.fif\n",
      "This filename (../data/growing_gooey/openbci_v207/compmonks/testing/session_005/compmonks_G5_OPENBCI-Cytonv207_2019-6-25_17-56-4-201062.fif) does not conform to MNE naming conventions. All epochs files should end with -epo.fif, -epo.fif.gz, _epo.fif or _epo.fif.gz\n",
      "   found:compmonks_G5_OPENBCI-Cytonv207_2019-6-25_17-59-12-657830.fif\n",
      "This filename (../data/growing_gooey/openbci_v207/compmonks/testing/session_005/compmonks_G5_OPENBCI-Cytonv207_2019-6-25_17-59-12-657830.fif) does not conform to MNE naming conventions. All epochs files should end with -epo.fif, -epo.fif.gz, _epo.fif or _epo.fif.gz\n"
     ]
    },
    {
     "name": "stderr",
     "output_type": "stream",
     "text": [
      "<ipython-input-13-b60c705f8e89>:15: RuntimeWarning: This filename (../data/growing_gooey/openbci_v207/compmonks/testing/session_005/compmonks_G5_OPENBCI-Cytonv207_2019-6-25_17-54-58-582916.fif) does not conform to MNE naming conventions. All epochs files should end with -epo.fif, -epo.fif.gz, _epo.fif or _epo.fif.gz\n",
      "  list_of_epochs.append(read_epochs(os.path.join(root,dirs,_f),preload=False, verbose=False))\n",
      "<ipython-input-13-b60c705f8e89>:15: RuntimeWarning: This filename (../data/growing_gooey/openbci_v207/compmonks/testing/session_005/compmonks_G5_OPENBCI-Cytonv207_2019-6-25_17-57-6-973281.fif) does not conform to MNE naming conventions. All epochs files should end with -epo.fif, -epo.fif.gz, _epo.fif or _epo.fif.gz\n",
      "  list_of_epochs.append(read_epochs(os.path.join(root,dirs,_f),preload=False, verbose=False))\n",
      "<ipython-input-13-b60c705f8e89>:15: RuntimeWarning: This filename (../data/growing_gooey/openbci_v207/compmonks/testing/session_005/compmonks_G5_OPENBCI-Cytonv207_2019-6-25_17-56-4-201062.fif) does not conform to MNE naming conventions. All epochs files should end with -epo.fif, -epo.fif.gz, _epo.fif or _epo.fif.gz\n",
      "  list_of_epochs.append(read_epochs(os.path.join(root,dirs,_f),preload=False, verbose=False))\n",
      "<ipython-input-13-b60c705f8e89>:15: RuntimeWarning: This filename (../data/growing_gooey/openbci_v207/compmonks/testing/session_005/compmonks_G5_OPENBCI-Cytonv207_2019-6-25_17-59-12-657830.fif) does not conform to MNE naming conventions. All epochs files should end with -epo.fif, -epo.fif.gz, _epo.fif or _epo.fif.gz\n",
      "  list_of_epochs.append(read_epochs(os.path.join(root,dirs,_f),preload=False, verbose=False))\n"
     ]
    },
    {
     "name": "stdout",
     "output_type": "stream",
     "text": [
      "device:openbci_v207 user:compmonks dir:session_002\n",
      "   found:compmonks_G5_OPENBCI-Cytonv207_2019-6-25_17-30-24-955794.fif\n",
      "This filename (../data/growing_gooey/openbci_v207/compmonks/testing/session_002/compmonks_G5_OPENBCI-Cytonv207_2019-6-25_17-30-24-955794.fif) does not conform to MNE naming conventions. All epochs files should end with -epo.fif, -epo.fif.gz, _epo.fif or _epo.fif.gz\n",
      "   found:compmonks_G5_OPENBCI-Cytonv207_2019-6-25_17-32-27-97583.fif\n",
      "This filename (../data/growing_gooey/openbci_v207/compmonks/testing/session_002/compmonks_G5_OPENBCI-Cytonv207_2019-6-25_17-32-27-97583.fif) does not conform to MNE naming conventions. All epochs files should end with -epo.fif, -epo.fif.gz, _epo.fif or _epo.fif.gz\n",
      "   found:compmonks_G5_OPENBCI-Cytonv207_2019-6-25_17-34-28-329694.fif\n",
      "This filename (../data/growing_gooey/openbci_v207/compmonks/testing/session_002/compmonks_G5_OPENBCI-Cytonv207_2019-6-25_17-34-28-329694.fif) does not conform to MNE naming conventions. All epochs files should end with -epo.fif, -epo.fif.gz, _epo.fif or _epo.fif.gz\n",
      "   found:compmonks_G5_OPENBCI-Cytonv207_2019-6-25_17-33-27-459451.fif\n",
      "This filename (../data/growing_gooey/openbci_v207/compmonks/testing/session_002/compmonks_G5_OPENBCI-Cytonv207_2019-6-25_17-33-27-459451.fif) does not conform to MNE naming conventions. All epochs files should end with -epo.fif, -epo.fif.gz, _epo.fif or _epo.fif.gz\n"
     ]
    },
    {
     "name": "stderr",
     "output_type": "stream",
     "text": [
      "<ipython-input-13-b60c705f8e89>:15: RuntimeWarning: This filename (../data/growing_gooey/openbci_v207/compmonks/testing/session_002/compmonks_G5_OPENBCI-Cytonv207_2019-6-25_17-30-24-955794.fif) does not conform to MNE naming conventions. All epochs files should end with -epo.fif, -epo.fif.gz, _epo.fif or _epo.fif.gz\n",
      "  list_of_epochs.append(read_epochs(os.path.join(root,dirs,_f),preload=False, verbose=False))\n",
      "<ipython-input-13-b60c705f8e89>:15: RuntimeWarning: This filename (../data/growing_gooey/openbci_v207/compmonks/testing/session_002/compmonks_G5_OPENBCI-Cytonv207_2019-6-25_17-32-27-97583.fif) does not conform to MNE naming conventions. All epochs files should end with -epo.fif, -epo.fif.gz, _epo.fif or _epo.fif.gz\n",
      "  list_of_epochs.append(read_epochs(os.path.join(root,dirs,_f),preload=False, verbose=False))\n",
      "<ipython-input-13-b60c705f8e89>:15: RuntimeWarning: This filename (../data/growing_gooey/openbci_v207/compmonks/testing/session_002/compmonks_G5_OPENBCI-Cytonv207_2019-6-25_17-34-28-329694.fif) does not conform to MNE naming conventions. All epochs files should end with -epo.fif, -epo.fif.gz, _epo.fif or _epo.fif.gz\n",
      "  list_of_epochs.append(read_epochs(os.path.join(root,dirs,_f),preload=False, verbose=False))\n",
      "<ipython-input-13-b60c705f8e89>:15: RuntimeWarning: This filename (../data/growing_gooey/openbci_v207/compmonks/testing/session_002/compmonks_G5_OPENBCI-Cytonv207_2019-6-25_17-33-27-459451.fif) does not conform to MNE naming conventions. All epochs files should end with -epo.fif, -epo.fif.gz, _epo.fif or _epo.fif.gz\n",
      "  list_of_epochs.append(read_epochs(os.path.join(root,dirs,_f),preload=False, verbose=False))\n"
     ]
    },
    {
     "name": "stdout",
     "output_type": "stream",
     "text": [
      "   found:compmonks_G5_OPENBCI-Cytonv207_2019-6-25_17-31-26-375618.fif\n",
      "This filename (../data/growing_gooey/openbci_v207/compmonks/testing/session_002/compmonks_G5_OPENBCI-Cytonv207_2019-6-25_17-31-26-375618.fif) does not conform to MNE naming conventions. All epochs files should end with -epo.fif, -epo.fif.gz, _epo.fif or _epo.fif.gz\n",
      "device:openbci_v207 user:compmonks dir:session_007\n",
      "   found:compmonks_G5_OPENBCI-Cytonv207_2019-6-25_18-16-11-335222.fif\n",
      "This filename (../data/growing_gooey/openbci_v207/compmonks/testing/session_007/compmonks_G5_OPENBCI-Cytonv207_2019-6-25_18-16-11-335222.fif) does not conform to MNE naming conventions. All epochs files should end with -epo.fif, -epo.fif.gz, _epo.fif or _epo.fif.gz\n",
      "   found:compmonks_G5_OPENBCI-Cytonv207_2019-6-25_18-20-19-374573.fif\n",
      "This filename (../data/growing_gooey/openbci_v207/compmonks/testing/session_007/compmonks_G5_OPENBCI-Cytonv207_2019-6-25_18-20-19-374573.fif) does not conform to MNE naming conventions. All epochs files should end with -epo.fif, -epo.fif.gz, _epo.fif or _epo.fif.gz\n"
     ]
    },
    {
     "name": "stderr",
     "output_type": "stream",
     "text": [
      "<ipython-input-13-b60c705f8e89>:15: RuntimeWarning: This filename (../data/growing_gooey/openbci_v207/compmonks/testing/session_002/compmonks_G5_OPENBCI-Cytonv207_2019-6-25_17-31-26-375618.fif) does not conform to MNE naming conventions. All epochs files should end with -epo.fif, -epo.fif.gz, _epo.fif or _epo.fif.gz\n",
      "  list_of_epochs.append(read_epochs(os.path.join(root,dirs,_f),preload=False, verbose=False))\n",
      "<ipython-input-13-b60c705f8e89>:15: RuntimeWarning: This filename (../data/growing_gooey/openbci_v207/compmonks/testing/session_007/compmonks_G5_OPENBCI-Cytonv207_2019-6-25_18-16-11-335222.fif) does not conform to MNE naming conventions. All epochs files should end with -epo.fif, -epo.fif.gz, _epo.fif or _epo.fif.gz\n",
      "  list_of_epochs.append(read_epochs(os.path.join(root,dirs,_f),preload=False, verbose=False))\n",
      "<ipython-input-13-b60c705f8e89>:15: RuntimeWarning: This filename (../data/growing_gooey/openbci_v207/compmonks/testing/session_007/compmonks_G5_OPENBCI-Cytonv207_2019-6-25_18-20-19-374573.fif) does not conform to MNE naming conventions. All epochs files should end with -epo.fif, -epo.fif.gz, _epo.fif or _epo.fif.gz\n",
      "  list_of_epochs.append(read_epochs(os.path.join(root,dirs,_f),preload=False, verbose=False))\n"
     ]
    },
    {
     "name": "stdout",
     "output_type": "stream",
     "text": [
      "   found:compmonks_G5_OPENBCI-Cytonv207_2019-6-25_18-18-15-310725.fif\n",
      "This filename (../data/growing_gooey/openbci_v207/compmonks/testing/session_007/compmonks_G5_OPENBCI-Cytonv207_2019-6-25_18-18-15-310725.fif) does not conform to MNE naming conventions. All epochs files should end with -epo.fif, -epo.fif.gz, _epo.fif or _epo.fif.gz\n",
      "   found:compmonks_G5_OPENBCI-Cytonv207_2019-6-25_18-19-17-301868.fif\n",
      "This filename (../data/growing_gooey/openbci_v207/compmonks/testing/session_007/compmonks_G5_OPENBCI-Cytonv207_2019-6-25_18-19-17-301868.fif) does not conform to MNE naming conventions. All epochs files should end with -epo.fif, -epo.fif.gz, _epo.fif or _epo.fif.gz\n",
      "   found:compmonks_G5_OPENBCI-Cytonv207_2019-6-25_18-17-13-851115.fif\n",
      "This filename (../data/growing_gooey/openbci_v207/compmonks/testing/session_007/compmonks_G5_OPENBCI-Cytonv207_2019-6-25_18-17-13-851115.fif) does not conform to MNE naming conventions. All epochs files should end with -epo.fif, -epo.fif.gz, _epo.fif or _epo.fif.gz\n",
      "device:openbci_v207 user:compmonks dir:session_000\n",
      "   found:compmonks_G5_OPENBCI-Cytonv207_2019-6-25_17-13-28-228954.fif\n",
      "This filename (../data/growing_gooey/openbci_v207/compmonks/testing/session_000/compmonks_G5_OPENBCI-Cytonv207_2019-6-25_17-13-28-228954.fif) does not conform to MNE naming conventions. All epochs files should end with -epo.fif, -epo.fif.gz, _epo.fif or _epo.fif.gz\n"
     ]
    },
    {
     "name": "stderr",
     "output_type": "stream",
     "text": [
      "<ipython-input-13-b60c705f8e89>:15: RuntimeWarning: This filename (../data/growing_gooey/openbci_v207/compmonks/testing/session_007/compmonks_G5_OPENBCI-Cytonv207_2019-6-25_18-18-15-310725.fif) does not conform to MNE naming conventions. All epochs files should end with -epo.fif, -epo.fif.gz, _epo.fif or _epo.fif.gz\n",
      "  list_of_epochs.append(read_epochs(os.path.join(root,dirs,_f),preload=False, verbose=False))\n",
      "<ipython-input-13-b60c705f8e89>:15: RuntimeWarning: This filename (../data/growing_gooey/openbci_v207/compmonks/testing/session_007/compmonks_G5_OPENBCI-Cytonv207_2019-6-25_18-19-17-301868.fif) does not conform to MNE naming conventions. All epochs files should end with -epo.fif, -epo.fif.gz, _epo.fif or _epo.fif.gz\n",
      "  list_of_epochs.append(read_epochs(os.path.join(root,dirs,_f),preload=False, verbose=False))\n",
      "<ipython-input-13-b60c705f8e89>:15: RuntimeWarning: This filename (../data/growing_gooey/openbci_v207/compmonks/testing/session_007/compmonks_G5_OPENBCI-Cytonv207_2019-6-25_18-17-13-851115.fif) does not conform to MNE naming conventions. All epochs files should end with -epo.fif, -epo.fif.gz, _epo.fif or _epo.fif.gz\n",
      "  list_of_epochs.append(read_epochs(os.path.join(root,dirs,_f),preload=False, verbose=False))\n",
      "<ipython-input-13-b60c705f8e89>:15: RuntimeWarning: This filename (../data/growing_gooey/openbci_v207/compmonks/testing/session_000/compmonks_G5_OPENBCI-Cytonv207_2019-6-25_17-13-28-228954.fif) does not conform to MNE naming conventions. All epochs files should end with -epo.fif, -epo.fif.gz, _epo.fif or _epo.fif.gz\n",
      "  list_of_epochs.append(read_epochs(os.path.join(root,dirs,_f),preload=False, verbose=False))\n"
     ]
    },
    {
     "name": "stdout",
     "output_type": "stream",
     "text": [
      "   found:compmonks_G5_OPENBCI-Cytonv207_2019-6-25_17-10-27-629853.fif\n",
      "This filename (../data/growing_gooey/openbci_v207/compmonks/testing/session_000/compmonks_G5_OPENBCI-Cytonv207_2019-6-25_17-10-27-629853.fif) does not conform to MNE naming conventions. All epochs files should end with -epo.fif, -epo.fif.gz, _epo.fif or _epo.fif.gz\n",
      "   found:compmonks_G5_OPENBCI-Cytonv207_2019-6-25_17-11-28-887326.fif\n",
      "This filename (../data/growing_gooey/openbci_v207/compmonks/testing/session_000/compmonks_G5_OPENBCI-Cytonv207_2019-6-25_17-11-28-887326.fif) does not conform to MNE naming conventions. All epochs files should end with -epo.fif, -epo.fif.gz, _epo.fif or _epo.fif.gz\n",
      "   found:compmonks_G5_OPENBCI-Cytonv207_2019-6-25_17-9-26-770578.fif\n",
      "This filename (../data/growing_gooey/openbci_v207/compmonks/testing/session_000/compmonks_G5_OPENBCI-Cytonv207_2019-6-25_17-9-26-770578.fif) does not conform to MNE naming conventions. All epochs files should end with -epo.fif, -epo.fif.gz, _epo.fif or _epo.fif.gz\n",
      "   found:compmonks_G5_OPENBCI-Cytonv207_2019-6-25_17-12-28-412304.fif\n",
      "This filename (../data/growing_gooey/openbci_v207/compmonks/testing/session_000/compmonks_G5_OPENBCI-Cytonv207_2019-6-25_17-12-28-412304.fif) does not conform to MNE naming conventions. All epochs files should end with -epo.fif, -epo.fif.gz, _epo.fif or _epo.fif.gz\n"
     ]
    },
    {
     "name": "stderr",
     "output_type": "stream",
     "text": [
      "<ipython-input-13-b60c705f8e89>:15: RuntimeWarning: This filename (../data/growing_gooey/openbci_v207/compmonks/testing/session_000/compmonks_G5_OPENBCI-Cytonv207_2019-6-25_17-10-27-629853.fif) does not conform to MNE naming conventions. All epochs files should end with -epo.fif, -epo.fif.gz, _epo.fif or _epo.fif.gz\n",
      "  list_of_epochs.append(read_epochs(os.path.join(root,dirs,_f),preload=False, verbose=False))\n",
      "<ipython-input-13-b60c705f8e89>:15: RuntimeWarning: This filename (../data/growing_gooey/openbci_v207/compmonks/testing/session_000/compmonks_G5_OPENBCI-Cytonv207_2019-6-25_17-11-28-887326.fif) does not conform to MNE naming conventions. All epochs files should end with -epo.fif, -epo.fif.gz, _epo.fif or _epo.fif.gz\n",
      "  list_of_epochs.append(read_epochs(os.path.join(root,dirs,_f),preload=False, verbose=False))\n",
      "<ipython-input-13-b60c705f8e89>:15: RuntimeWarning: This filename (../data/growing_gooey/openbci_v207/compmonks/testing/session_000/compmonks_G5_OPENBCI-Cytonv207_2019-6-25_17-9-26-770578.fif) does not conform to MNE naming conventions. All epochs files should end with -epo.fif, -epo.fif.gz, _epo.fif or _epo.fif.gz\n",
      "  list_of_epochs.append(read_epochs(os.path.join(root,dirs,_f),preload=False, verbose=False))\n",
      "<ipython-input-13-b60c705f8e89>:15: RuntimeWarning: This filename (../data/growing_gooey/openbci_v207/compmonks/testing/session_000/compmonks_G5_OPENBCI-Cytonv207_2019-6-25_17-12-28-412304.fif) does not conform to MNE naming conventions. All epochs files should end with -epo.fif, -epo.fif.gz, _epo.fif or _epo.fif.gz\n",
      "  list_of_epochs.append(read_epochs(os.path.join(root,dirs,_f),preload=False, verbose=False))\n"
     ]
    },
    {
     "name": "stdout",
     "output_type": "stream",
     "text": [
      "device:openbci_v207 user:compmonks dir:session_009\n",
      "   found:compmonks_G5_OPENBCI-Cytonv207_2019-6-25_18-34-13-306434.fif\n",
      "This filename (../data/growing_gooey/openbci_v207/compmonks/testing/session_009/compmonks_G5_OPENBCI-Cytonv207_2019-6-25_18-34-13-306434.fif) does not conform to MNE naming conventions. All epochs files should end with -epo.fif, -epo.fif.gz, _epo.fif or _epo.fif.gz\n",
      "   found:compmonks_G5_OPENBCI-Cytonv207_2019-6-25_18-35-15-586444.fif\n",
      "This filename (../data/growing_gooey/openbci_v207/compmonks/testing/session_009/compmonks_G5_OPENBCI-Cytonv207_2019-6-25_18-35-15-586444.fif) does not conform to MNE naming conventions. All epochs files should end with -epo.fif, -epo.fif.gz, _epo.fif or _epo.fif.gz\n",
      "   found:compmonks_G5_OPENBCI-Cytonv207_2019-6-25_18-33-11-688537.fif\n",
      "This filename (../data/growing_gooey/openbci_v207/compmonks/testing/session_009/compmonks_G5_OPENBCI-Cytonv207_2019-6-25_18-33-11-688537.fif) does not conform to MNE naming conventions. All epochs files should end with -epo.fif, -epo.fif.gz, _epo.fif or _epo.fif.gz\n"
     ]
    },
    {
     "name": "stderr",
     "output_type": "stream",
     "text": [
      "<ipython-input-13-b60c705f8e89>:15: RuntimeWarning: This filename (../data/growing_gooey/openbci_v207/compmonks/testing/session_009/compmonks_G5_OPENBCI-Cytonv207_2019-6-25_18-34-13-306434.fif) does not conform to MNE naming conventions. All epochs files should end with -epo.fif, -epo.fif.gz, _epo.fif or _epo.fif.gz\n",
      "  list_of_epochs.append(read_epochs(os.path.join(root,dirs,_f),preload=False, verbose=False))\n",
      "<ipython-input-13-b60c705f8e89>:15: RuntimeWarning: This filename (../data/growing_gooey/openbci_v207/compmonks/testing/session_009/compmonks_G5_OPENBCI-Cytonv207_2019-6-25_18-35-15-586444.fif) does not conform to MNE naming conventions. All epochs files should end with -epo.fif, -epo.fif.gz, _epo.fif or _epo.fif.gz\n",
      "  list_of_epochs.append(read_epochs(os.path.join(root,dirs,_f),preload=False, verbose=False))\n",
      "<ipython-input-13-b60c705f8e89>:15: RuntimeWarning: This filename (../data/growing_gooey/openbci_v207/compmonks/testing/session_009/compmonks_G5_OPENBCI-Cytonv207_2019-6-25_18-33-11-688537.fif) does not conform to MNE naming conventions. All epochs files should end with -epo.fif, -epo.fif.gz, _epo.fif or _epo.fif.gz\n",
      "  list_of_epochs.append(read_epochs(os.path.join(root,dirs,_f),preload=False, verbose=False))\n"
     ]
    },
    {
     "name": "stdout",
     "output_type": "stream",
     "text": [
      "   found:compmonks_G5_OPENBCI-Cytonv207_2019-6-25_18-36-17-254252.fif\n",
      "This filename (../data/growing_gooey/openbci_v207/compmonks/testing/session_009/compmonks_G5_OPENBCI-Cytonv207_2019-6-25_18-36-17-254252.fif) does not conform to MNE naming conventions. All epochs files should end with -epo.fif, -epo.fif.gz, _epo.fif or _epo.fif.gz\n",
      "   found:compmonks_G5_OPENBCI-Cytonv207_2019-6-25_18-32-7-289889.fif\n",
      "This filename (../data/growing_gooey/openbci_v207/compmonks/testing/session_009/compmonks_G5_OPENBCI-Cytonv207_2019-6-25_18-32-7-289889.fif) does not conform to MNE naming conventions. All epochs files should end with -epo.fif, -epo.fif.gz, _epo.fif or _epo.fif.gz\n",
      "device:openbci_v207 user:compmonks dir:session_008\n",
      "   found:compmonks_G5_OPENBCI-Cytonv207_2019-6-25_18-28-17-614488.fif\n",
      "This filename (../data/growing_gooey/openbci_v207/compmonks/testing/session_008/compmonks_G5_OPENBCI-Cytonv207_2019-6-25_18-28-17-614488.fif) does not conform to MNE naming conventions. All epochs files should end with -epo.fif, -epo.fif.gz, _epo.fif or _epo.fif.gz\n"
     ]
    },
    {
     "name": "stderr",
     "output_type": "stream",
     "text": [
      "<ipython-input-13-b60c705f8e89>:15: RuntimeWarning: This filename (../data/growing_gooey/openbci_v207/compmonks/testing/session_009/compmonks_G5_OPENBCI-Cytonv207_2019-6-25_18-36-17-254252.fif) does not conform to MNE naming conventions. All epochs files should end with -epo.fif, -epo.fif.gz, _epo.fif or _epo.fif.gz\n",
      "  list_of_epochs.append(read_epochs(os.path.join(root,dirs,_f),preload=False, verbose=False))\n",
      "<ipython-input-13-b60c705f8e89>:15: RuntimeWarning: This filename (../data/growing_gooey/openbci_v207/compmonks/testing/session_009/compmonks_G5_OPENBCI-Cytonv207_2019-6-25_18-32-7-289889.fif) does not conform to MNE naming conventions. All epochs files should end with -epo.fif, -epo.fif.gz, _epo.fif or _epo.fif.gz\n",
      "  list_of_epochs.append(read_epochs(os.path.join(root,dirs,_f),preload=False, verbose=False))\n",
      "<ipython-input-13-b60c705f8e89>:15: RuntimeWarning: This filename (../data/growing_gooey/openbci_v207/compmonks/testing/session_008/compmonks_G5_OPENBCI-Cytonv207_2019-6-25_18-28-17-614488.fif) does not conform to MNE naming conventions. All epochs files should end with -epo.fif, -epo.fif.gz, _epo.fif or _epo.fif.gz\n",
      "  list_of_epochs.append(read_epochs(os.path.join(root,dirs,_f),preload=False, verbose=False))\n"
     ]
    },
    {
     "name": "stdout",
     "output_type": "stream",
     "text": [
      "   found:compmonks_G5_OPENBCI-Cytonv207_2019-6-25_18-25-10-704629.fif\n",
      "This filename (../data/growing_gooey/openbci_v207/compmonks/testing/session_008/compmonks_G5_OPENBCI-Cytonv207_2019-6-25_18-25-10-704629.fif) does not conform to MNE naming conventions. All epochs files should end with -epo.fif, -epo.fif.gz, _epo.fif or _epo.fif.gz\n",
      "   found:compmonks_G5_OPENBCI-Cytonv207_2019-6-25_18-26-12-809754.fif\n",
      "This filename (../data/growing_gooey/openbci_v207/compmonks/testing/session_008/compmonks_G5_OPENBCI-Cytonv207_2019-6-25_18-26-12-809754.fif) does not conform to MNE naming conventions. All epochs files should end with -epo.fif, -epo.fif.gz, _epo.fif or _epo.fif.gz\n",
      "   found:compmonks_G5_OPENBCI-Cytonv207_2019-6-25_18-27-15-353268.fif\n",
      "This filename (../data/growing_gooey/openbci_v207/compmonks/testing/session_008/compmonks_G5_OPENBCI-Cytonv207_2019-6-25_18-27-15-353268.fif) does not conform to MNE naming conventions. All epochs files should end with -epo.fif, -epo.fif.gz, _epo.fif or _epo.fif.gz\n"
     ]
    },
    {
     "name": "stderr",
     "output_type": "stream",
     "text": [
      "<ipython-input-13-b60c705f8e89>:15: RuntimeWarning: This filename (../data/growing_gooey/openbci_v207/compmonks/testing/session_008/compmonks_G5_OPENBCI-Cytonv207_2019-6-25_18-25-10-704629.fif) does not conform to MNE naming conventions. All epochs files should end with -epo.fif, -epo.fif.gz, _epo.fif or _epo.fif.gz\n",
      "  list_of_epochs.append(read_epochs(os.path.join(root,dirs,_f),preload=False, verbose=False))\n",
      "<ipython-input-13-b60c705f8e89>:15: RuntimeWarning: This filename (../data/growing_gooey/openbci_v207/compmonks/testing/session_008/compmonks_G5_OPENBCI-Cytonv207_2019-6-25_18-26-12-809754.fif) does not conform to MNE naming conventions. All epochs files should end with -epo.fif, -epo.fif.gz, _epo.fif or _epo.fif.gz\n",
      "  list_of_epochs.append(read_epochs(os.path.join(root,dirs,_f),preload=False, verbose=False))\n",
      "<ipython-input-13-b60c705f8e89>:15: RuntimeWarning: This filename (../data/growing_gooey/openbci_v207/compmonks/testing/session_008/compmonks_G5_OPENBCI-Cytonv207_2019-6-25_18-27-15-353268.fif) does not conform to MNE naming conventions. All epochs files should end with -epo.fif, -epo.fif.gz, _epo.fif or _epo.fif.gz\n",
      "  list_of_epochs.append(read_epochs(os.path.join(root,dirs,_f),preload=False, verbose=False))\n"
     ]
    },
    {
     "name": "stdout",
     "output_type": "stream",
     "text": [
      "   found:compmonks_G5_OPENBCI-Cytonv207_2019-6-25_18-24-5-822324.fif\n",
      "This filename (../data/growing_gooey/openbci_v207/compmonks/testing/session_008/compmonks_G5_OPENBCI-Cytonv207_2019-6-25_18-24-5-822324.fif) does not conform to MNE naming conventions. All epochs files should end with -epo.fif, -epo.fif.gz, _epo.fif or _epo.fif.gz\n",
      "device:openbci_v207 user:compmonks dir:session_001\n",
      "   found:compmonks_G5_OPENBCI-Cytonv207_2019-6-25_17-22-10-219014.fif\n",
      "This filename (../data/growing_gooey/openbci_v207/compmonks/testing/session_001/compmonks_G5_OPENBCI-Cytonv207_2019-6-25_17-22-10-219014.fif) does not conform to MNE naming conventions. All epochs files should end with -epo.fif, -epo.fif.gz, _epo.fif or _epo.fif.gz\n",
      "   found:compmonks_G5_OPENBCI-Cytonv207_2019-6-25_17-25-13-48274.fif\n",
      "This filename (../data/growing_gooey/openbci_v207/compmonks/testing/session_001/compmonks_G5_OPENBCI-Cytonv207_2019-6-25_17-25-13-48274.fif) does not conform to MNE naming conventions. All epochs files should end with -epo.fif, -epo.fif.gz, _epo.fif or _epo.fif.gz\n"
     ]
    },
    {
     "name": "stderr",
     "output_type": "stream",
     "text": [
      "<ipython-input-13-b60c705f8e89>:15: RuntimeWarning: This filename (../data/growing_gooey/openbci_v207/compmonks/testing/session_008/compmonks_G5_OPENBCI-Cytonv207_2019-6-25_18-24-5-822324.fif) does not conform to MNE naming conventions. All epochs files should end with -epo.fif, -epo.fif.gz, _epo.fif or _epo.fif.gz\n",
      "  list_of_epochs.append(read_epochs(os.path.join(root,dirs,_f),preload=False, verbose=False))\n",
      "<ipython-input-13-b60c705f8e89>:15: RuntimeWarning: This filename (../data/growing_gooey/openbci_v207/compmonks/testing/session_001/compmonks_G5_OPENBCI-Cytonv207_2019-6-25_17-22-10-219014.fif) does not conform to MNE naming conventions. All epochs files should end with -epo.fif, -epo.fif.gz, _epo.fif or _epo.fif.gz\n",
      "  list_of_epochs.append(read_epochs(os.path.join(root,dirs,_f),preload=False, verbose=False))\n",
      "<ipython-input-13-b60c705f8e89>:15: RuntimeWarning: This filename (../data/growing_gooey/openbci_v207/compmonks/testing/session_001/compmonks_G5_OPENBCI-Cytonv207_2019-6-25_17-25-13-48274.fif) does not conform to MNE naming conventions. All epochs files should end with -epo.fif, -epo.fif.gz, _epo.fif or _epo.fif.gz\n",
      "  list_of_epochs.append(read_epochs(os.path.join(root,dirs,_f),preload=False, verbose=False))\n"
     ]
    },
    {
     "name": "stdout",
     "output_type": "stream",
     "text": [
      "   found:compmonks_G5_OPENBCI-Cytonv207_2019-6-25_17-24-12-131296.fif\n",
      "This filename (../data/growing_gooey/openbci_v207/compmonks/testing/session_001/compmonks_G5_OPENBCI-Cytonv207_2019-6-25_17-24-12-131296.fif) does not conform to MNE naming conventions. All epochs files should end with -epo.fif, -epo.fif.gz, _epo.fif or _epo.fif.gz\n",
      "   found:compmonks_G5_OPENBCI-Cytonv207_2019-6-25_17-26-14-123293.fif\n",
      "This filename (../data/growing_gooey/openbci_v207/compmonks/testing/session_001/compmonks_G5_OPENBCI-Cytonv207_2019-6-25_17-26-14-123293.fif) does not conform to MNE naming conventions. All epochs files should end with -epo.fif, -epo.fif.gz, _epo.fif or _epo.fif.gz\n",
      "   found:compmonks_G5_OPENBCI-Cytonv207_2019-6-25_17-23-12-193875.fif\n",
      "This filename (../data/growing_gooey/openbci_v207/compmonks/testing/session_001/compmonks_G5_OPENBCI-Cytonv207_2019-6-25_17-23-12-193875.fif) does not conform to MNE naming conventions. All epochs files should end with -epo.fif, -epo.fif.gz, _epo.fif or _epo.fif.gz\n"
     ]
    },
    {
     "name": "stderr",
     "output_type": "stream",
     "text": [
      "<ipython-input-13-b60c705f8e89>:15: RuntimeWarning: This filename (../data/growing_gooey/openbci_v207/compmonks/testing/session_001/compmonks_G5_OPENBCI-Cytonv207_2019-6-25_17-24-12-131296.fif) does not conform to MNE naming conventions. All epochs files should end with -epo.fif, -epo.fif.gz, _epo.fif or _epo.fif.gz\n",
      "  list_of_epochs.append(read_epochs(os.path.join(root,dirs,_f),preload=False, verbose=False))\n",
      "<ipython-input-13-b60c705f8e89>:15: RuntimeWarning: This filename (../data/growing_gooey/openbci_v207/compmonks/testing/session_001/compmonks_G5_OPENBCI-Cytonv207_2019-6-25_17-26-14-123293.fif) does not conform to MNE naming conventions. All epochs files should end with -epo.fif, -epo.fif.gz, _epo.fif or _epo.fif.gz\n",
      "  list_of_epochs.append(read_epochs(os.path.join(root,dirs,_f),preload=False, verbose=False))\n",
      "<ipython-input-13-b60c705f8e89>:15: RuntimeWarning: This filename (../data/growing_gooey/openbci_v207/compmonks/testing/session_001/compmonks_G5_OPENBCI-Cytonv207_2019-6-25_17-23-12-193875.fif) does not conform to MNE naming conventions. All epochs files should end with -epo.fif, -epo.fif.gz, _epo.fif or _epo.fif.gz\n",
      "  list_of_epochs.append(read_epochs(os.path.join(root,dirs,_f),preload=False, verbose=False))\n"
     ]
    },
    {
     "name": "stdout",
     "output_type": "stream",
     "text": [
      "device:openbci_v207 user:compmonks dir:session_006\n",
      "   found:compmonks_G5_OPENBCI-Cytonv207_2019-6-25_18-10-26-978767.fif\n",
      "This filename (../data/growing_gooey/openbci_v207/compmonks/testing/session_006/compmonks_G5_OPENBCI-Cytonv207_2019-6-25_18-10-26-978767.fif) does not conform to MNE naming conventions. All epochs files should end with -epo.fif, -epo.fif.gz, _epo.fif or _epo.fif.gz\n",
      "   found:compmonks_G5_OPENBCI-Cytonv207_2019-6-25_18-11-30-262250.fif\n",
      "This filename (../data/growing_gooey/openbci_v207/compmonks/testing/session_006/compmonks_G5_OPENBCI-Cytonv207_2019-6-25_18-11-30-262250.fif) does not conform to MNE naming conventions. All epochs files should end with -epo.fif, -epo.fif.gz, _epo.fif or _epo.fif.gz\n",
      "   found:compmonks_G5_OPENBCI-Cytonv207_2019-6-25_18-9-24-268827.fif\n",
      "This filename (../data/growing_gooey/openbci_v207/compmonks/testing/session_006/compmonks_G5_OPENBCI-Cytonv207_2019-6-25_18-9-24-268827.fif) does not conform to MNE naming conventions. All epochs files should end with -epo.fif, -epo.fif.gz, _epo.fif or _epo.fif.gz\n"
     ]
    },
    {
     "name": "stderr",
     "output_type": "stream",
     "text": [
      "<ipython-input-13-b60c705f8e89>:15: RuntimeWarning: This filename (../data/growing_gooey/openbci_v207/compmonks/testing/session_006/compmonks_G5_OPENBCI-Cytonv207_2019-6-25_18-10-26-978767.fif) does not conform to MNE naming conventions. All epochs files should end with -epo.fif, -epo.fif.gz, _epo.fif or _epo.fif.gz\n",
      "  list_of_epochs.append(read_epochs(os.path.join(root,dirs,_f),preload=False, verbose=False))\n",
      "<ipython-input-13-b60c705f8e89>:15: RuntimeWarning: This filename (../data/growing_gooey/openbci_v207/compmonks/testing/session_006/compmonks_G5_OPENBCI-Cytonv207_2019-6-25_18-11-30-262250.fif) does not conform to MNE naming conventions. All epochs files should end with -epo.fif, -epo.fif.gz, _epo.fif or _epo.fif.gz\n",
      "  list_of_epochs.append(read_epochs(os.path.join(root,dirs,_f),preload=False, verbose=False))\n",
      "<ipython-input-13-b60c705f8e89>:15: RuntimeWarning: This filename (../data/growing_gooey/openbci_v207/compmonks/testing/session_006/compmonks_G5_OPENBCI-Cytonv207_2019-6-25_18-9-24-268827.fif) does not conform to MNE naming conventions. All epochs files should end with -epo.fif, -epo.fif.gz, _epo.fif or _epo.fif.gz\n",
      "  list_of_epochs.append(read_epochs(os.path.join(root,dirs,_f),preload=False, verbose=False))\n"
     ]
    },
    {
     "name": "stdout",
     "output_type": "stream",
     "text": [
      "8115 matching events found\n",
      "No baseline correction applied\n"
     ]
    },
    {
     "name": "stderr",
     "output_type": "stream",
     "text": [
      "/Users/pierrecutellic/py35/lib/python3.5/site-packages/seaborn/timeseries.py:183: UserWarning: The `tsplot` function is deprecated and will be removed in a future release. Please update your code to use the new `lineplot` function.\n",
      "  warnings.warn(msg, UserWarning)\n"
     ]
    },
    {
     "data": {
      "image/png": "[encoded data removed]",
      "text/plain": [
       "<Figure size 864x432 with 16 Axes>"
      ]
     },
     "metadata": {},
     "output_type": "display_data"
    },
    {
     "name": "stdout",
     "output_type": "stream",
     "text": [
      "Creating RawArray with float64 data, n_channels=17, n_times=47650\n",
      "    Range : 0 ... 47649 =      0.000 ...   381.192 secs\n",
      "Ready.\n"
     ]
    }
   ],
   "source": [
    "list_of_epochs = [] # an empty list of found epochs to be concatenated\n",
    "conditions = OrderedDict()\n",
    "conditions['2: Non-target'] = [the_markers[\"Non-Target\"]]\n",
    "conditions['1: Target'] = [the_markers[\"Target\"]]\n",
    "the_data_path = os.path.join(the_folder_path,the_device,the_user,\"testing\")\n",
    "raw = []\n",
    "# loop through subdirs and concatenate epochs\n",
    "for root, subdirs, files in os.walk(the_data_path):\n",
    "    for dirs in subdirs:\n",
    "        print(\"device:{} user:{} dir:{}\".format(the_device,the_user,dirs))\n",
    "        file_list = os.listdir(os.path.join(root,dirs))\n",
    "        for _f in file_list:\n",
    "            if \".fif\" in _f:\n",
    "                print(\"   found:{}\".format(_f))\n",
    "                list_of_epochs.append(read_epochs(os.path.join(root,dirs,_f),preload=False, verbose=False))\n",
    "# concatenate all found epochs\n",
    "the_epochs = concatenate_epochs(list_of_epochs)#.drop_bad()\n",
    "# plot conditions\n",
    "plotConditions(the_epochs, the_units, len(the_epochs.ch_names)-1, diff_waveform = (2,1) ,conditions = conditions, palette = diverging_color_palette)       \n",
    "# training data\n",
    "for root, subdirs, files in all_sessions_data_path:\n",
    "    for dirs in subdirs:\n",
    "        file_list = [fn for fn in os.listdir(os.path.join(root,dirs)) if fn.endswith(\"hdf5\")]\n",
    "        if len(file_list) == 2:\n",
    "            if \"FEEDBACK\" in file_list[0]:\n",
    "                dataF = pd.read_hdf(os.path.join(root,dirs,file_list[0]),'data')\n",
    "                dataA = pd.read_hdf(os.path.join(root,dirs,file_list[1]),'EEG')\n",
    "            else:\n",
    "                dataF = pd.read_hdf(os.path.join(root,dirs,file_list[1]),'data')\n",
    "                dataA = pd.read_hdf(os.path.join(root,dirs,file_list[0]),'EEG')\n",
    "            #\n",
    "            dataA['Stim'] = np.nan\n",
    "            prev_marker = 0\n",
    "            for index,row in dataA.iterrows():\n",
    "                new_marker = dataF.iloc[dataF.index.get_loc(pd.to_datetime(index),method='nearest')]['marker'].astype(int)\n",
    "                if prev_marker == 0:\n",
    "                    if new_marker != 0:\n",
    "                        row['Stim'] = new_marker\n",
    "                        prev_marker = new_marker\n",
    "                    else:\n",
    "                        row['Stim'] = 0\n",
    "                else:\n",
    "                    row['Stim'] = 0\n",
    "                    prev_marker = new_marker\n",
    "\n",
    "            channel_names = list(dataA.keys())\n",
    "            # temporary fix on possibly erroneous channel labelling on some of the former data\n",
    "            for _it,_ch in enumerate(channel_names):\n",
    "                if _ch == \"P2\":\n",
    "                    channel_names[_it] = \"O2\"\n",
    "            #\n",
    "            channel_types = ['eeg'] * (len(list(dataA.keys()))-1) + ['stim']\n",
    "            the_data = dataA.values[:].T\n",
    "            the_data[:-1] *= 1e-6 if the_units == \"uVolts\" else 1\n",
    "            info = create_info(ch_names = channel_names, \n",
    "                               ch_types = channel_types,\n",
    "                               sfreq = the_freq, \n",
    "                               montage = the_montage)\n",
    "            raw.append(RawArray(data = the_data, info = info))\n",
    "the_raw = concatenate_raws(raw)\n",
    "the_events = find_events(the_raw)\n",
    "the_epochs = Epochs(the_raw,\n",
    "                    events = the_events, \n",
    "                    event_id = the_markers,\n",
    "                    tmin = -0.1, tmax = 0.7,\n",
    "                    baseline = None,\n",
    "                    reject = {'eeg': 75e-6},\n",
    "                    preload = True,\n",
    "                    verbose = False,\n",
    "                    picks = list(range(len(channel_names)-1))\n",
    "                   )\n",
    "the_sample_drop = (1 - len(the_epochs.events)/len(the_events)) * 100\n",
    "print(\"sample drop: {} %\".format(the_sample_drop))\n",
    "plotConditions(the_epochs, the_units, len(the_epochs.ch_names)-1, diff_waveform = (2,1) ,conditions = conditions, palette = training_color_palette)\n",
    "#\n",
    "#plt.savefig(os.path.join(the_data_path,\"CONDITIONS.png\"),dpi = 800,format = \"png\")\n",
    "plt.show()"
   ]
  },
  {
   "cell_type": "code",
   "execution_count": null,
   "metadata": {},
   "outputs": [],
   "source": []
  }
 ],
 "metadata": {
  "kernelspec": {
   "display_name": "Python 3",
   "language": "python",
   "name": "python3"
  }
 },
 "nbformat": 4,
 "nbformat_minor": 2
}
